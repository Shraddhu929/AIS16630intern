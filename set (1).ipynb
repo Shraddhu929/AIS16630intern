{
 "cells": [
  {
   "cell_type": "code",
   "execution_count": null,
   "id": "6bc41895-36c1-420a-97eb-8142c6a2e665",
   "metadata": {},
   "outputs": [],
   "source": [
    "#set\n",
    "#sets are used to start multiple items in a single variable.\n",
    "#set is one of 4 built-in-in data type in python used to store collection of data.\n",
    "#the other 3 are list ,tuple and Dictionary all withdifferent qualities and usage.\n",
    "#A set is a collection which is unordered , changeable,unindexed.\n",
    "#Note:set items are unchangable , but you can remove items and odd new items."
   ]
  },
  {
   "cell_type": "code",
   "execution_count": 4,
   "id": "2ba59b0c-f135-44dd-8654-cc0966a60c7b",
   "metadata": {},
   "outputs": [
    {
     "name": "stdout",
     "output_type": "stream",
     "text": [
      "{'yellow', 'red', 'green'}\n"
     ]
    }
   ],
   "source": [
    "#sets are written with curly brackets.\n",
    "#example\n",
    "set={\"red\",\"yellow\",\"green\"}\n",
    "print(set)"
   ]
  },
  {
   "cell_type": "code",
   "execution_count": null,
   "id": "d60ffbf8-6461-4f85-aa2f-8dbbe5b535b0",
   "metadata": {},
   "outputs": [],
   "source": [
    "#set items\n",
    "#set items are unordered , unchangable,and do not allow duplivation values.\n",
    "#unordered\n",
    "#unordered means that the items in aset do not have a defined order.\n",
    "#set items can appear in a different order every time you ude then, and cannot be reffered to by index or key.\n",
    "#unchangable\n",
    "#set items are unchangable , meaning that we cannot change the items after the set has been created\n",
    "#once aset is created,you cnnot change its items but  you can remove items and add new items."
   ]
  },
  {
   "cell_type": "code",
   "execution_count": 5,
   "id": "7c84da9c-2409-408e-8eef-9fd63a533b34",
   "metadata": {},
   "outputs": [
    {
     "name": "stdout",
     "output_type": "stream",
     "text": [
      "{'blue', 'Yellow', 'red'}\n"
     ]
    }
   ],
   "source": [
    "#Duplication not allowded\n",
    "#set cannot have two items with the same value.\n",
    "#example\n",
    "#Duplication value will be ignore:\n",
    "set={\"red\",\"blue\",\"Yellow\",\"blue\",\"red\",\"Yellow\"}\n",
    "print(set)"
   ]
  },
  {
   "cell_type": "code",
   "execution_count": 6,
   "id": "762e2c3d-6f0e-4b2e-bf92-a86178216567",
   "metadata": {},
   "outputs": [
    {
     "name": "stdout",
     "output_type": "stream",
     "text": [
      "{'grapes', 2, True, 'banana', 'apple'}\n"
     ]
    }
   ],
   "source": [
    "#The value True and 1 are considered the same value in sets, and are treated as duplication\n",
    "#example\n",
    "#True and 1 is consired the same value:\n",
    "set={\"apple\",\"banana\",\"grapes\",True,1,2}\n",
    "print(set)"
   ]
  },
  {
   "cell_type": "code",
   "execution_count": 7,
   "id": "5632e92b-6041-4d0b-8df6-6aa91f08dd88",
   "metadata": {},
   "outputs": [
    {
     "name": "stdout",
     "output_type": "stream",
     "text": [
      "{False, 'grapes', 5, 'banana', 'apple'}\n"
     ]
    }
   ],
   "source": [
    "#The value False and 0 are considered the same value in sets, and are treated as duplication\n",
    "#example\n",
    "#False and 0 is consired the same value:\n",
    "set={\"apple\",\"banana\",\"grapes\",False,0,5}\n",
    "print(set)"
   ]
  },
  {
   "cell_type": "code",
   "execution_count": 8,
   "id": "61674fc3-30e1-449e-87f7-5dda924d5423",
   "metadata": {},
   "outputs": [
    {
     "name": "stdout",
     "output_type": "stream",
     "text": [
      "3\n"
     ]
    }
   ],
   "source": [
    "#length of a set\n",
    "#To determine how many items a set has,use len() function\n",
    "#example\n",
    "set={\"red\",\"blue\",\"Yellow\",\"blue\",\"red\",\"Yellow\"}\n",
    "print(len(set))"
   ]
  },
  {
   "cell_type": "code",
   "execution_count": 9,
   "id": "1f5aa36d-3d6c-4012-a267-e8e8b5636bc8",
   "metadata": {},
   "outputs": [
    {
     "name": "stdout",
     "output_type": "stream",
     "text": [
      "{'blue', 'Yellow', 'red'}\n",
      "{2, 3, 5, 7, 8, 9}\n",
      "{False, True}\n"
     ]
    }
   ],
   "source": [
    "#set items-data types\n",
    "#set items can be of any data type:\n",
    "#example\n",
    "set1={\"blue\",\"Yellow\",\"blue\",\"red\",\"Yellow\"}\n",
    "set2={3,5,7,8,9,2}\n",
    "set3={True,False,True}\n",
    "print(set1)\n",
    "print(set2)\n",
    "print(set3)"
   ]
  },
  {
   "cell_type": "code",
   "execution_count": 10,
   "id": "cfc48194-c2f9-4b55-a216-3e4adb65f41e",
   "metadata": {},
   "outputs": [
    {
     "name": "stdout",
     "output_type": "stream",
     "text": [
      "{True, 24, 'shraddha', 'female', 12}\n"
     ]
    }
   ],
   "source": [
    "#set can contains diffetent data types:\n",
    "#example\n",
    "#A set with strings, integers and boolen values;\n",
    "set1={\"shraddha\",24,True,12,\"female\"}\n",
    "print(set1)"
   ]
  },
  {
   "cell_type": "code",
   "execution_count": 11,
   "id": "5ff4571e-87dc-4e3d-988f-62810af0a7b4",
   "metadata": {},
   "outputs": [
    {
     "name": "stdout",
     "output_type": "stream",
     "text": [
      "<class 'set'>\n"
     ]
    }
   ],
   "source": [
    "#type()\n",
    "#sets are defined as objects with the data type 'set':<class'set'>\n",
    "#example\n",
    "set={\"blue\",\"Yellow\",\"blue\",\"red\",\"Yellow\"}\n",
    "print(type(set))"
   ]
  },
  {
   "cell_type": "code",
   "execution_count": 12,
   "id": "7bf8d1fd-236c-44ef-80c8-5b61bf9a0ffb",
   "metadata": {},
   "outputs": [
    {
     "ename": "TypeError",
     "evalue": "'set' object is not callable",
     "output_type": "error",
     "traceback": [
      "\u001b[1;31m---------------------------------------------------------------------------\u001b[0m",
      "\u001b[1;31mTypeError\u001b[0m                                 Traceback (most recent call last)",
      "Cell \u001b[1;32mIn[12], line 5\u001b[0m\n\u001b[0;32m      1\u001b[0m \u001b[38;5;66;03m#The set() Constructor\u001b[39;00m\n\u001b[0;32m      2\u001b[0m \u001b[38;5;66;03m#It is also possible to use the set() constructor to make a set\u001b[39;00m\n\u001b[0;32m      3\u001b[0m \u001b[38;5;66;03m#Example\u001b[39;00m\n\u001b[0;32m      4\u001b[0m \u001b[38;5;66;03m#using the set() constructor to make a set:\u001b[39;00m\n\u001b[1;32m----> 5\u001b[0m myset\u001b[38;5;241m=\u001b[39m\u001b[38;5;28mset\u001b[39m((\u001b[38;5;124m\"\u001b[39m\u001b[38;5;124mblue\u001b[39m\u001b[38;5;124m\"\u001b[39m,\u001b[38;5;124m\"\u001b[39m\u001b[38;5;124mred\u001b[39m\u001b[38;5;124m\"\u001b[39m,\u001b[38;5;124m\"\u001b[39m\u001b[38;5;124mgreen\u001b[39m\u001b[38;5;124m\"\u001b[39m))\u001b[38;5;66;03m#note the double round-brackets\u001b[39;00m\n\u001b[0;32m      6\u001b[0m \u001b[38;5;28mprint\u001b[39m(myset)\n",
      "\u001b[1;31mTypeError\u001b[0m: 'set' object is not callable"
     ]
    }
   ],
   "source": [
    "#The set() Constructor\n",
    "#It is also possible to use the set() constructor to make a set\n",
    "#Example\n",
    "#using the set() constructor to make a set:\n",
    "myset=set((\"blue\",\"red\",\"green\"))#note the double round-brackets\n",
    "print(myset)"
   ]
  }
 ],
 "metadata": {
  "kernelspec": {
   "display_name": "Python 3 (ipykernel)",
   "language": "python",
   "name": "python3"
  },
  "language_info": {
   "codemirror_mode": {
    "name": "ipython",
    "version": 3
   },
   "file_extension": ".py",
   "mimetype": "text/x-python",
   "name": "python",
   "nbconvert_exporter": "python",
   "pygments_lexer": "ipython3",
   "version": "3.11.7"
  }
 },
 "nbformat": 4,
 "nbformat_minor": 5
}
