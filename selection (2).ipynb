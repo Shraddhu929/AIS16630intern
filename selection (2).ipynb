{
 "cells": [
  {
   "cell_type": "code",
   "execution_count": 1,
   "id": "14a7b23e-451f-488d-bdec-bfe1c423cfc2",
   "metadata": {},
   "outputs": [
    {
     "name": "stdout",
     "output_type": "stream",
     "text": [
      "0    A\n",
      "1    B\n",
      "2    C\n",
      "3    D\n",
      "4    E\n",
      "Name: Name, dtype: object\n",
      "  Name  Age\n",
      "0    A   25\n",
      "1    B   30\n",
      "2    C   35\n",
      "3    D   40\n",
      "4    E   45\n",
      "  Name  Age Gender City\n",
      "3    D   40      M    W\n",
      "4    E   45      F    S\n",
      "  Name  Age\n",
      "1    B   30\n",
      "2    C   35\n",
      "  Name  Age\n",
      "1    B   30\n",
      "2    C   35\n",
      "3    D   40\n"
     ]
    }
   ],
   "source": [
    "# DataFrame row,column selection:\n",
    "# Example\n",
    "import pandas as pd\n",
    "data = {'Name': ['A', 'B', 'C', 'D', 'E'],'Age': [25, 30, 35, 40, 45],'Gender': ['F', 'M', 'M', 'M', 'F'],'City': ['X', 'Y', 'Z', 'W', 'S']}\n",
    "\n",
    "df = pd.DataFrame(data)\n",
    "\n",
    "# Selecting a single column\n",
    "name_column = df['Name']\n",
    "print(name_column)\n",
    "\n",
    "# Selecting multiple columns\n",
    "subset = df[['Name', 'Age']]\n",
    "print(subset)\n",
    "\n",
    "# Selecting rows based on condition\n",
    "subset_age_35plus = df[df['Age'] > 35]\n",
    "print(subset_age_35plus)\n",
    "\n",
    "# Selecting rows and columns using iloc (index-based selection)\n",
    "subset_iloc = df.iloc[1:3, 0:2]  # Rows 1 and 2, Columns 0 and 1\n",
    "print(subset_iloc)\n",
    "\n",
    "# Selecting rows and columns using loc (label-based selection)\n",
    "subset_loc = df.loc[1:3, ['Name', 'Age']]  # Rows 1 to 3, Columns 'Name' and 'Age'\n",
    "print(subset_loc)"
   ]
  },
  {
   "cell_type": "code",
   "execution_count": 2,
   "id": "a9961cdb-8ee6-4391-ad18-ee3f02229699",
   "metadata": {},
   "outputs": [
    {
     "name": "stdout",
     "output_type": "stream",
     "text": [
      "  Name  Age Gender City\n",
      "2    C   35      M    Z\n",
      "3    D   40      M    W\n",
      "4    E   45      F    S\n",
      "  Name  Age Gender City\n",
      "1    B   30      M    Y\n",
      "2    C   35      M    Z\n",
      "3    D   40      M    W\n",
      "  Name  Age Gender City\n",
      "2    C   35      M    Z\n",
      "3    D   40      M    W\n"
     ]
    }
   ],
   "source": [
    "# conditional selection:\n",
    "# Example\n",
    "import pandas as pd\n",
    "data = {'Name': ['A', 'B', 'C', 'D', 'E'],'Age': [25, 30, 35, 40, 45],'Gender': ['F', 'M', 'M', 'M', 'F'],'City': ['X', 'Y', 'Z', 'W', 'S']}\n",
    "\n",
    "df = pd.DataFrame(data)\n",
    "\n",
    "# Filter rows where Age is greater than 30\n",
    "a = df[df['Age'] > 30]\n",
    "print(a)\n",
    "\n",
    "# Filter rows where Gender is Male\n",
    "b = df[df['Gender'] == 'M']\n",
    "print(b)\n",
    "\n",
    "# Combine multiple conditions using logical operators like & (AND) and | (OR)\n",
    "c = df[(df['Gender'] == 'M') & (df['Age'] > 30)]\n",
    "print(c)"
   ]
  },
  {
   "cell_type": "code",
   "execution_count": 3,
   "id": "daa77b9f-4ae1-4088-b77c-b6efd2d9165c",
   "metadata": {},
   "outputs": [
    {
     "name": "stdout",
     "output_type": "stream",
     "text": [
      "  Name  Age Gender City\n",
      "2    C   35      M    Z\n",
      "3    D   40      M    W\n",
      "4    E   45      F    S\n"
     ]
    }
   ],
   "source": [
    "# Query(): select row using query\n",
    "# Example\n",
    "import pandas as pd\n",
    "data = {'Name': ['A', 'B', 'C', 'D', 'E'],'Age': [25, 30, 35, 40, 45],'Gender': ['F', 'M', 'M', 'M', 'F'],'City': ['X', 'Y', 'Z', 'W', 'S']}\n",
    "\n",
    "df = pd.DataFrame(data)\n",
    "\n",
    "subset=df.query('Age>30')\n",
    "print(subset)"
   ]
  },
  {
   "cell_type": "code",
   "execution_count": 4,
   "id": "8e64dc39-26b1-4166-b087-9eef25c77a87",
   "metadata": {},
   "outputs": [
    {
     "name": "stdout",
     "output_type": "stream",
     "text": [
      "    A  B   C\n",
      "0   1  a   2\n",
      "1   3  b   4\n",
      "2   7  c   6\n",
      "3   9  d   8\n",
      "4  11  e  10\n"
     ]
    }
   ],
   "source": [
    "# column add,delete,update:\n",
    "# Example\n",
    "# add new column C\n",
    "import pandas as pd\n",
    "data={'A':[1,3,7,9,11],'B':['a','b','c','d','e']}\n",
    "df=pd.DataFrame(data)\n",
    "df['C']=[2,4,6,8,10]\n",
    "print(df)\n"
   ]
  },
  {
   "cell_type": "code",
   "execution_count": 5,
   "id": "07ccab49-56a3-41e2-8f37-a4563568c05f",
   "metadata": {},
   "outputs": [
    {
     "name": "stdout",
     "output_type": "stream",
     "text": [
      "    A   C\n",
      "0   1   2\n",
      "1   3   4\n",
      "2   7   6\n",
      "3   9   8\n",
      "4  11  10\n"
     ]
    }
   ],
   "source": [
    "# Example\n",
    "# delete column B\n",
    "\n",
    "df = df.drop('B', axis=1)\n",
    "print(df)"
   ]
  },
  {
   "cell_type": "code",
   "execution_count": 6,
   "id": "966b893a-4b5f-49f8-92f1-5c13526500ac",
   "metadata": {},
   "outputs": [
    {
     "name": "stdout",
     "output_type": "stream",
     "text": [
      "    A  B\n",
      "0   2  a\n",
      "1   4  b\n",
      "2   6  c\n",
      "3   8  d\n",
      "4  10  e\n"
     ]
    }
   ],
   "source": [
    "# Example\n",
    "# update values in column A\n",
    "import pandas as pd\n",
    "data={'A':[1,3,7,9,11],'B':['a','b','c','d','e']}\n",
    "df=pd.DataFrame(data)\n",
    "df['A']=[2,4,6,8,10]\n",
    "print(df)\n"
   ]
  },
  {
   "cell_type": "code",
   "execution_count": 7,
   "id": "b9540d19-903e-4085-a243-02ca1a100976",
   "metadata": {},
   "outputs": [
    {
     "name": "stdout",
     "output_type": "stream",
     "text": [
      "   A\n",
      "B   \n",
      "a  1\n",
      "b  2\n",
      "c  3\n",
      "d  4\n"
     ]
    }
   ],
   "source": [
    "# Index:To set a column as the index of the dataframe,use the set_index() function.\n",
    "# Example\n",
    "# Set column 'B' as the index\n",
    "import pandas as pd\n",
    "data={'A': [1, 2, 3, 4],'B': ['a', 'b', 'c', 'd']}\n",
    "df = pd.DataFrame(data)\n",
    "df.set_index('B', inplace=True)\n",
    "print(df)"
   ]
  },
  {
   "cell_type": "code",
   "execution_count": 8,
   "id": "15c1852a-57e5-47b1-9a8b-ac750232a318",
   "metadata": {},
   "outputs": [
    {
     "name": "stdout",
     "output_type": "stream",
     "text": [
      "   index  A  B\n",
      "0      0  1  a\n",
      "1      1  2  b\n",
      "2      2  3  c\n",
      "3      3  4  d\n"
     ]
    }
   ],
   "source": [
    "# Removing Index: To remove the index and reset it to the default integer index, use the reset_index() function. \n",
    "# Example\n",
    "import pandas as pd\n",
    "data={'A': [1, 2, 3, 4],'B': ['a', 'b', 'c', 'd']}\n",
    "df = pd.DataFrame(data)\n",
    "df.reset_index(inplace=True)\n",
    "print(df)"
   ]
  },
  {
   "cell_type": "code",
   "execution_count": 9,
   "id": "dbaed7dc-0815-4a53-84c4-9b2c372c05e2",
   "metadata": {},
   "outputs": [
    {
     "name": "stdout",
     "output_type": "stream",
     "text": [
      "   A  B\n",
      "0  1  a\n",
      "1  2  b\n",
      "2  3  c\n",
      "3  4  d\n"
     ]
    }
   ],
   "source": [
    "# Example\n",
    "import pandas as pd\n",
    "data={'A': [1, 2, 3, 4],'B': ['a', 'b', 'c', 'd']}\n",
    "df = pd.DataFrame(data)\n",
    "df.reset_index(drop=True,inplace=True)\n",
    "print(df)"
   ]
  },
  {
   "cell_type": "code",
   "execution_count": 10,
   "id": "efafcc23-e179-4355-81eb-5caa99a3a4a8",
   "metadata": {},
   "outputs": [
    {
     "name": "stdout",
     "output_type": "stream",
     "text": [
      "    A   B\n",
      "0   8  14\n",
      "1  10  16\n",
      "2  12  18\n",
      "    A   B\n",
      "0   8  14\n",
      "1  10  16\n",
      "2  12  18\n"
     ]
    }
   ],
   "source": [
    "# Operation:\n",
    "# Addition using the add() method:\n",
    "import pandas as pd \n",
    "df1 = pd.DataFrame({'A': [1, 2, 3],'B': [4, 5, 6]})\n",
    "df2 = pd.DataFrame({'A': [7, 8, 9],'B': [10, 11, 12]})\n",
    "a=df1+df2\n",
    "print(a)\n",
    "b=df1.add(df2) # Alternative method\n",
    "print(b)"
   ]
  },
  {
   "cell_type": "code",
   "execution_count": 11,
   "id": "78fe63ba-6b2a-4750-a176-a71d315c0613",
   "metadata": {},
   "outputs": [
    {
     "name": "stdout",
     "output_type": "stream",
     "text": [
      "   A  B\n",
      "0 -6 -6\n",
      "1 -6 -6\n",
      "2 -6 -6\n",
      "   A  B\n",
      "0 -6 -6\n",
      "1 -6 -6\n",
      "2 -6 -6\n"
     ]
    }
   ],
   "source": [
    "# Subtraction using the sub() method:\n",
    "import pandas as pd \n",
    "df1 = pd.DataFrame({'A': [1, 2, 3],'B': [4, 5, 6]})\n",
    "df2 = pd.DataFrame({'A': [7, 8, 9],'B': [10, 11, 12]})\n",
    "c=df1-df2\n",
    "print(c)\n",
    "d=df1.sub(df2) # Alternative method\n",
    "print(d)"
   ]
  },
  {
   "cell_type": "code",
   "execution_count": 12,
   "id": "187a7be4-7091-475c-99d3-1677b230df21",
   "metadata": {},
   "outputs": [
    {
     "name": "stdout",
     "output_type": "stream",
     "text": [
      "    A   B\n",
      "0   7  40\n",
      "1  16  55\n",
      "2  27  72\n",
      "    A   B\n",
      "0   7  40\n",
      "1  16  55\n",
      "2  27  72\n"
     ]
    }
   ],
   "source": [
    "# Multiplication using the mul() method:\n",
    "import pandas as pd \n",
    "df1 = pd.DataFrame({'A': [1, 2, 3],'B': [4, 5, 6]})\n",
    "df2 = pd.DataFrame({'A': [7, 8, 9],'B': [10, 11, 12]})\n",
    "e=df1*df2\n",
    "print(e)\n",
    "f=df1.mul(df2) # Alternative method\n",
    "print(e)"
   ]
  },
  {
   "cell_type": "code",
   "execution_count": 13,
   "id": "980ecee1-024e-4709-941c-00100c076fce",
   "metadata": {},
   "outputs": [
    {
     "name": "stdout",
     "output_type": "stream",
     "text": [
      "          A         B\n",
      "0  0.142857  0.400000\n",
      "1  0.250000  0.454545\n",
      "2  0.333333  0.500000\n",
      "          A         B\n",
      "0  0.142857  0.400000\n",
      "1  0.250000  0.454545\n",
      "2  0.333333  0.500000\n"
     ]
    }
   ],
   "source": [
    "# Division using the div() method\n",
    "import pandas as pd \n",
    "df1 = pd.DataFrame({'A': [1, 2, 3],'B': [4, 5, 6]})\n",
    "df2 = pd.DataFrame({'A': [7, 8, 9],'B': [10, 11, 12]})\n",
    "m=df1/df2\n",
    "print(m)\n",
    "n=df1.div(df2) # Alternative method\n",
    "print(n)"
   ]
  },
  {
   "cell_type": "code",
   "execution_count": null,
   "id": "7bb9f06c-ed0b-4b6c-bf85-5ea94542fe32",
   "metadata": {},
   "outputs": [],
   "source": []
  }
 ],
 "metadata": {
  "kernelspec": {
   "display_name": "Python 3 (ipykernel)",
   "language": "python",
   "name": "python3"
  },
  "language_info": {
   "codemirror_mode": {
    "name": "ipython",
    "version": 3
   },
   "file_extension": ".py",
   "mimetype": "text/x-python",
   "name": "python",
   "nbconvert_exporter": "python",
   "pygments_lexer": "ipython3",
   "version": "3.11.7"
  }
 },
 "nbformat": 4,
 "nbformat_minor": 5
}
