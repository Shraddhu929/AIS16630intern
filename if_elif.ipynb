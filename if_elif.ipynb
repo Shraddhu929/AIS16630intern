{
 "cells": [
  {
   "cell_type": "code",
   "execution_count": null,
   "id": "5d7c3130-c19a-4c49-8690-277f3ac55aa2",
   "metadata": {},
   "outputs": [],
   "source": [
    "#If_elif\n",
    "#The elif keyword is pythons way of saying if the previous condition were not true,then it is use.\n",
    "#python supports the usual lofical condition from mathematics\n",
    "Equals:a==b\n",
    "Not Equals:a!=b\n",
    "Less than or equal to: a<=b\n",
    "Greater than :a>b\n",
    "Greater than or equal to:a>=b"
   ]
  },
  {
   "cell_type": "code",
   "execution_count": 1,
   "id": "a0e931d7-43cb-460a-b81f-c30ff6dbeb0a",
   "metadata": {},
   "outputs": [
    {
     "name": "stdout",
     "output_type": "stream",
     "text": [
      "a and b are equal\n"
     ]
    }
   ],
   "source": [
    "#Example1\n",
    "a=20\n",
    "b=20\n",
    "if b>a:\n",
    "    print(\"b is greater than a\")\n",
    "elif a==b:\n",
    "    print(\"a and b are equal\")"
   ]
  },
  {
   "cell_type": "code",
   "execution_count": 3,
   "id": "28bb608b-68bc-4cd4-afa3-9c55b358800f",
   "metadata": {},
   "outputs": [
    {
     "name": "stdout",
     "output_type": "stream",
     "text": [
      "b is less than a\n"
     ]
    }
   ],
   "source": [
    "#Example2\n",
    "a=20\n",
    "b=15\n",
    "if b>a:\n",
    "    print(\"b is greater than a\")\n",
    "elif a>b:\n",
    "    print(\"b is less than a\")"
   ]
  },
  {
   "cell_type": "code",
   "execution_count": 4,
   "id": "354463dc-4b07-4d28-9153-cadbb9e12f46",
   "metadata": {},
   "outputs": [
    {
     "name": "stdout",
     "output_type": "stream",
     "text": [
      "b is not equal to a\n"
     ]
    }
   ],
   "source": [
    "#Example3\n",
    "a=20\n",
    "b=15\n",
    "if b!=a:\n",
    "    print(\"b is not equal to a\")\n",
    "elif a>=b:\n",
    "    print(\"b is less than equal to a\")"
   ]
  },
  {
   "cell_type": "code",
   "execution_count": 5,
   "id": "d75b16de-2dd6-4be5-b748-66f3c9999201",
   "metadata": {},
   "outputs": [
    {
     "name": "stdout",
     "output_type": "stream",
     "text": [
      "b is less than a\n"
     ]
    }
   ],
   "source": [
    "#Example4\n",
    "a=20\n",
    "b=15\n",
    "if b<=a:\n",
    "    print(\"b is less than a\")\n",
    "elif a>b:\n",
    "    print(\"b is less than a\")"
   ]
  },
  {
   "cell_type": "code",
   "execution_count": 6,
   "id": "b3b71403-eb4a-4896-b933-b467c280cf4e",
   "metadata": {},
   "outputs": [
    {
     "name": "stdout",
     "output_type": "stream",
     "text": [
      "b is less than equal to a\n"
     ]
    }
   ],
   "source": [
    "#Example5\n",
    "a=20\n",
    "b=20\n",
    "if b!=a:\n",
    "    print(\"a is not equal to b\")\n",
    "elif a>=b:\n",
    "    print(\"b is less than equal to a\")"
   ]
  },
  {
   "cell_type": "code",
   "execution_count": 7,
   "id": "4a9335d0-fe1c-42ba-bc62-95f72b7d2ab2",
   "metadata": {},
   "outputs": [
    {
     "name": "stdout",
     "output_type": "stream",
     "text": [
      "b is less than a\n"
     ]
    }
   ],
   "source": [
    "#Example6\n",
    "a=20\n",
    "b=15\n",
    "if b<a:\n",
    "    print(\"b is less than a\")\n",
    "elif a>b:\n",
    "    print(\"b is less than a\")"
   ]
  },
  {
   "cell_type": "code",
   "execution_count": 8,
   "id": "dfe666aa-ed60-4f95-8409-fd47e4921588",
   "metadata": {},
   "outputs": [
    {
     "name": "stdout",
     "output_type": "stream",
     "text": [
      "a is less than equal to b\n"
     ]
    }
   ],
   "source": [
    "#Example7\n",
    "a=20\n",
    "b=30\n",
    "if b==a:\n",
    "    print(\"a and b are equal\")\n",
    "elif a<b:\n",
    "    print(\"a is less than equal to b\")"
   ]
  },
  {
   "cell_type": "code",
   "execution_count": 9,
   "id": "304a6ee5-55bb-4300-b38d-bbdf42419cf3",
   "metadata": {},
   "outputs": [
    {
     "name": "stdout",
     "output_type": "stream",
     "text": [
      "a is not equal to a\n"
     ]
    }
   ],
   "source": [
    "#Example8\n",
    "a=95\n",
    "b=24\n",
    "if a!=b:\n",
    "    print(\"a is not equal to a\")\n",
    "elif a>=b:\n",
    "    print(\"b is less than equal to  a\")"
   ]
  },
  {
   "cell_type": "code",
   "execution_count": 10,
   "id": "9732136f-39c3-4709-9912-3bad0df187bb",
   "metadata": {},
   "outputs": [
    {
     "name": "stdout",
     "output_type": "stream",
     "text": [
      "b is greater than equal to a\n"
     ]
    }
   ],
   "source": [
    "#Example9\n",
    "a=24\n",
    "b=95\n",
    "if b>=a:\n",
    "    print(\"b is greater than equal to a\")\n",
    "elif a<b:\n",
    "    print(\"b is less than a\")"
   ]
  },
  {
   "cell_type": "code",
   "execution_count": 11,
   "id": "4bc66f20-3cd6-429c-a453-aecec8f0c87d",
   "metadata": {},
   "outputs": [
    {
     "name": "stdout",
     "output_type": "stream",
     "text": [
      " a is not equal to b\n"
     ]
    }
   ],
   "source": [
    "#Example10\n",
    "a=24\n",
    "b=12\n",
    "if b>a:\n",
    "    print(\"b is greater than a\")\n",
    "elif a!=b:\n",
    "    print(\" a is not equal to b\")"
   ]
  }
 ],
 "metadata": {
  "kernelspec": {
   "display_name": "Python 3 (ipykernel)",
   "language": "python",
   "name": "python3"
  },
  "language_info": {
   "codemirror_mode": {
    "name": "ipython",
    "version": 3
   },
   "file_extension": ".py",
   "mimetype": "text/x-python",
   "name": "python",
   "nbconvert_exporter": "python",
   "pygments_lexer": "ipython3",
   "version": "3.11.7"
  }
 },
 "nbformat": 4,
 "nbformat_minor": 5
}
