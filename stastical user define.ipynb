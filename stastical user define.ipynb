{
 "cells": [
  {
   "cell_type": "code",
   "execution_count": 10,
   "id": "ae7b2adc-e233-4ccf-9172-48f14a70e83e",
   "metadata": {},
   "outputs": [
    {
     "name": "stdout",
     "output_type": "stream",
     "text": [
      "The mean is: 5.75\n"
     ]
    }
   ],
   "source": [
    "#Mean\n",
    "def cal_mean(l):\n",
    "    if len(l)==0:\n",
    "        return(0)\n",
    "    mean=sum(l)/len(l)\n",
    "    return(mean)\n",
    "l=[4,5,6,8]\n",
    "mean=cal_mean(l)\n",
    "print(\"The mean is:\",mean)"
   ]
  },
  {
   "cell_type": "code",
   "execution_count": 11,
   "id": "62a8274b-0c24-4831-9108-a9325b6ef2ca",
   "metadata": {},
   "outputs": [
    {
     "name": "stdout",
     "output_type": "stream",
     "text": [
      "Median: 3.5\n"
     ]
    }
   ],
   "source": [
    "#Median\n",
    "def median(l):\n",
    "    s_n=sorted(l)\n",
    "    n=len(s_n)\n",
    "    if n%2==0:\n",
    "        # if the number of elements is even,take the average of the middle two numbers\n",
    "        middle_left=s_n[n//2-1]\n",
    "        middle_right=s_n[n//2]\n",
    "        return(middle_left+middle_right)/2\n",
    "    else:\n",
    "        #if the number of elements is odd, return the middle number\n",
    "        return sorted_number[n//2]\n",
    "l=[5,2,8,4,1,3]\n",
    "print(\"Median:\",median(l))\n",
    "        "
   ]
  },
  {
   "cell_type": "code",
   "execution_count": 15,
   "id": "d699d573-c473-4255-aa31-132cc0ba1d11",
   "metadata": {},
   "outputs": [
    {
     "name": "stdout",
     "output_type": "stream",
     "text": [
      "mode [1]\n"
     ]
    }
   ],
   "source": [
    "#Mode\n",
    "def cal_mode(l):\n",
    "    counts={}\n",
    "    for num in l:\n",
    "        if num in counts:\n",
    "            counts[num] += 1\n",
    "        else:\n",
    "            counts[num] = 1\n",
    "            \n",
    "        max_count=max(counts.values())\n",
    "        mode=[num for num,count in counts.items() if count==max_count]\n",
    "        \n",
    "        return mode\n",
    "        \n",
    "l=[1,2,3,3,4,3,6,3,3,3,3,4]\n",
    "mode=cal_mode(l)\n",
    "print(\"mode\",mode)\n",
    "            \n",
    "    "
   ]
  },
  {
   "cell_type": "code",
   "execution_count": 17,
   "id": "8c38efb7-2682-415b-b2d7-cc561d6b5f6a",
   "metadata": {},
   "outputs": [
    {
     "name": "stdout",
     "output_type": "stream",
     "text": [
      "range: 77\n"
     ]
    }
   ],
   "source": [
    "#Range\n",
    "def cal_range(l):\n",
    "    min_value=min(l)\n",
    "    max_value=max(l)\n",
    "    return max_value-min_value\n",
    "l=[12,45,67,85,24,12,89]\n",
    "range=cal_range(l)\n",
    "print(\"range:\",range)"
   ]
  },
  {
   "cell_type": "code",
   "execution_count": 19,
   "id": "a4450b83-3b48-4931-9486-3c12ca39a9fb",
   "metadata": {},
   "outputs": [
    {
     "name": "stdout",
     "output_type": "stream",
     "text": [
      "var: 9.04\n"
     ]
    }
   ],
   "source": [
    "#variane\n",
    "def cal_variance(l):\n",
    "    if len(l)==0:\n",
    "        return(0)\n",
    "    mean=sum(l)/len(l)\n",
    "    s=[(x-mean)**2 for x in l]\n",
    "    var=sum(s)/len(l)\n",
    "    return(var)\n",
    "l=[4,7,9,1,2]\n",
    "var=cal_variance(l)\n",
    "print(\"var:\",var)"
   ]
  },
  {
   "cell_type": "code",
   "execution_count": 21,
   "id": "2e2f6ca4-2fe5-4987-946e-8a049555a265",
   "metadata": {},
   "outputs": [
    {
     "name": "stdout",
     "output_type": "stream",
     "text": [
      "sd: 2.5768197453450252\n"
     ]
    }
   ],
   "source": [
    "#Standard deviation\n",
    "def cal_sd(l):\n",
    "    if len(l)==0:\n",
    "       return(0)\n",
    "    mean=sum(l)/len(l)\n",
    "    s=[(x-mean)**2 for x in l]\n",
    "    var=sum(s)/len(l)\n",
    "    sd=var**0.5\n",
    "    return(sd)\n",
    "l=[4,5,2,8,9]\n",
    "sd=cal_sd(l)\n",
    "print(\"sd:\",sd)"
   ]
  },
  {
   "cell_type": "code",
   "execution_count": null,
   "id": "87ef7208-2740-4022-b4d2-073a58c7c5bd",
   "metadata": {},
   "outputs": [],
   "source": [
    "#covariance\n",
    "def covariance(X,Y):\n",
    "    n=len(X)\n",
    "    mean_X=sum(X)/n\n",
    "    mean_Y=sum(Y)/n\n",
    "    \n",
    "    cov=sum((X[i] - mean_X) * (Y[i]- mean_Y) for i in range(n))/(n-l)\n",
    "    return cov\n",
    "#example\n",
    "X=[4,5,6,7,5]\n",
    "Y=[11,12,14,17,15]\n",
    "cov=covariance(X,Y)\n",
    "print(\"covariance:\",cov)"
   ]
  },
  {
   "cell_type": "code",
   "execution_count": 30,
   "id": "c83f0987-b977-4f49-89e2-89a1ea56b614",
   "metadata": {},
   "outputs": [
    {
     "ename": "TypeError",
     "evalue": "'int' object is not callable",
     "output_type": "error",
     "traceback": [
      "\u001b[1;31m---------------------------------------------------------------------------\u001b[0m",
      "\u001b[1;31mTypeError\u001b[0m                                 Traceback (most recent call last)",
      "Cell \u001b[1;32mIn[30], line 12\u001b[0m\n\u001b[0;32m     10\u001b[0m X\u001b[38;5;241m=\u001b[39m[\u001b[38;5;241m4\u001b[39m,\u001b[38;5;241m5\u001b[39m,\u001b[38;5;241m6\u001b[39m,\u001b[38;5;241m7\u001b[39m,\u001b[38;5;241m5\u001b[39m]\n\u001b[0;32m     11\u001b[0m Y\u001b[38;5;241m=\u001b[39m[\u001b[38;5;241m11\u001b[39m,\u001b[38;5;241m12\u001b[39m,\u001b[38;5;241m14\u001b[39m,\u001b[38;5;241m17\u001b[39m,\u001b[38;5;241m15\u001b[39m]\n\u001b[1;32m---> 12\u001b[0m corr\u001b[38;5;241m=\u001b[39mcorrelation(X,Y)\n\u001b[0;32m     13\u001b[0m \u001b[38;5;28mprint\u001b[39m(\u001b[38;5;124m\"\u001b[39m\u001b[38;5;124mcorrelation:\u001b[39m\u001b[38;5;124m\"\u001b[39m,corr)\n",
      "Cell \u001b[1;32mIn[30], line 6\u001b[0m, in \u001b[0;36mcorrelation\u001b[1;34m(X, Y)\u001b[0m\n\u001b[0;32m      4\u001b[0m mean_X\u001b[38;5;241m=\u001b[39m\u001b[38;5;28msum\u001b[39m(X)\u001b[38;5;241m/\u001b[39mn\n\u001b[0;32m      5\u001b[0m mean_Y\u001b[38;5;241m=\u001b[39m\u001b[38;5;28msum\u001b[39m(Y)\u001b[38;5;241m/\u001b[39mn\n\u001b[1;32m----> 6\u001b[0m a\u001b[38;5;241m=\u001b[39m\u001b[38;5;28msum\u001b[39m((X[i]\u001b[38;5;241m-\u001b[39mmean_X)\u001b[38;5;241m*\u001b[39m(Y[i]\u001b[38;5;241m-\u001b[39mmean_Y) \u001b[38;5;28;01mfor\u001b[39;00m i \u001b[38;5;129;01min\u001b[39;00m \u001b[38;5;28mrange\u001b[39m(n))\u001b[38;5;241m/\u001b[39m(n\u001b[38;5;241m-\u001b[39m\u001b[38;5;241m1\u001b[39m)\n\u001b[0;32m      7\u001b[0m b\u001b[38;5;241m=\u001b[39m(\u001b[38;5;28msum\u001b[39m((x\u001b[38;5;241m-\u001b[39mmean_X)\u001b[38;5;241m*\u001b[39m\u001b[38;5;241m*\u001b[39m\u001b[38;5;241m2\u001b[39m \u001b[38;5;28;01mfor\u001b[39;00m x \u001b[38;5;129;01min\u001b[39;00m X)\u001b[38;5;241m*\u001b[39m(\u001b[38;5;28msum\u001b[39m((y\u001b[38;5;241m-\u001b[39mmean_Y)\u001b[38;5;241m*\u001b[39m\u001b[38;5;241m*\u001b[39m\u001b[38;5;241m2\u001b[39m \u001b[38;5;28;01mfor\u001b[39;00m y \u001b[38;5;129;01min\u001b[39;00m Y))\u001b[38;5;241m*\u001b[39m\u001b[38;5;241m*\u001b[39m\u001b[38;5;241m0.5\u001b[39m)\n\u001b[0;32m      8\u001b[0m corr\u001b[38;5;241m=\u001b[39ma\u001b[38;5;241m/\u001b[39mb\n",
      "\u001b[1;31mTypeError\u001b[0m: 'int' object is not callable"
     ]
    }
   ],
   "source": [
    "#correlation\n",
    "def correlation(X,Y):\n",
    "    n=len(X)\n",
    "    mean_X=sum(X)/n\n",
    "    mean_Y=sum(Y)/n\n",
    "    a=sum((X[i]-mean_X)*(Y[i]-mean_Y) for i in range(n))/(n-1)\n",
    "    b=(sum((x-mean_X)**2 for x in X)*(sum((y-mean_Y)**2 for y in Y))**0.5)\n",
    "    corr=a/b\n",
    "    return corr\n",
    "X=[4,5,6,7,5]\n",
    "Y=[11,12,14,17,15]\n",
    "corr=correlation(X,Y)\n",
    "print(\"correlation:\",corr)"
   ]
  },
  {
   "cell_type": "code",
   "execution_count": null,
   "id": "d0306aab-e570-43fc-8721-225d5a1b3d5a",
   "metadata": {},
   "outputs": [],
   "source": [
    "#Skewness\n",
    "def "
   ]
  }
 ],
 "metadata": {
  "kernelspec": {
   "display_name": "Python 3 (ipykernel)",
   "language": "python",
   "name": "python3"
  },
  "language_info": {
   "codemirror_mode": {
    "name": "ipython",
    "version": 3
   },
   "file_extension": ".py",
   "mimetype": "text/x-python",
   "name": "python",
   "nbconvert_exporter": "python",
   "pygments_lexer": "ipython3",
   "version": "3.11.7"
  }
 },
 "nbformat": 4,
 "nbformat_minor": 5
}
