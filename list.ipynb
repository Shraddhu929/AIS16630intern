{
 "cells": [
  {
   "cell_type": "code",
   "execution_count": null,
   "id": "a1d75fd0-316d-4bb2-9159-62ae02853814",
   "metadata": {},
   "outputs": [],
   "source": [
    "# List are used to store multiple items in a single variable\n",
    "list are one of 4 built-in -data typein Python used to store collection of data,the other 3 are Tuple,set and Dectionary all with different qualities and usage."
   ]
  },
  {
   "cell_type": "code",
   "execution_count": 1,
   "id": "7c49ed3e-398c-479e-bbbf-527dbf5e6015",
   "metadata": {},
   "outputs": [
    {
     "name": "stdout",
     "output_type": "stream",
     "text": [
      "['red', 'yellow', 'green']\n"
     ]
    }
   ],
   "source": [
    "#list are created using square brackets:\n",
    "#Example\n",
    "list=[\"red\",\"yellow\",\"green\"]\n",
    "print(list)"
   ]
  },
  {
   "cell_type": "code",
   "execution_count": null,
   "id": "6e8950e2-6f52-4c2b-b6bd-594ff6a0caac",
   "metadata": {},
   "outputs": [],
   "source": [
    "#List items are ordered,changable, and allow duplicate value. List items are indexed,the first item has index[0],the second item has index[1]ect.\n",
    "#Orderd when we say that list are ordered,it means that the item have a defined ordered, and that orderd will not change. if you add new item to alist the new items will be placed at the\n",
    "end of the list\n",
    "#Changeable The list is changable ,meaning that we can change add and remove items in a list after it has been created"
   ]
  },
  {
   "cell_type": "code",
   "execution_count": 3,
   "id": "10eeeea7-9abd-4995-8de5-b2ce55a6ef0b",
   "metadata": {},
   "outputs": [
    {
     "name": "stdout",
     "output_type": "stream",
     "text": [
      "['banana', 'black berry', 'cherry', 'grapes', 'banana', 'grapes']\n"
     ]
    }
   ],
   "source": [
    "#Allow duplication\n",
    "#since list are indexed,list can have items with the same value\n",
    "#example\n",
    "#list allow duplication value:\n",
    "List=[\"banana\",\"black berry\",\"cherry\",\"grapes\",\"banana\",\"grapes\"]\n",
    "print(List)"
   ]
  },
  {
   "cell_type": "code",
   "execution_count": 4,
   "id": "106fa884-0031-44cc-991f-e2d4f9b05f9d",
   "metadata": {},
   "outputs": [
    {
     "name": "stdout",
     "output_type": "stream",
     "text": [
      "['banana', 'black berry', 'cherry', 'grapes', 'banana', 'grapes']\n"
     ]
    }
   ],
   "source": [
    "#List length\n",
    "#To determind how many items ae present in list,use len() function\n",
    "#Example\n",
    "List=[\"banana\",\"black berry\",\"cherry\",\"grapes\",\"banana\",\"grapes\"]\n",
    "print(List)"
   ]
  },
  {
   "cell_type": "code",
   "execution_count": 5,
   "id": "ccea6303-6d12-48d1-a727-b048e8042635",
   "metadata": {},
   "outputs": [
    {
     "data": {
      "text/plain": [
       "6"
      ]
     },
     "execution_count": 5,
     "metadata": {},
     "output_type": "execute_result"
    }
   ],
   "source": [
    "len(List)"
   ]
  },
  {
   "cell_type": "code",
   "execution_count": 6,
   "id": "c6e67cae-37fc-4df4-8042-156431e9d5db",
   "metadata": {},
   "outputs": [
    {
     "name": "stdout",
     "output_type": "stream",
     "text": [
      "['red', 'yellow', 'green']\n",
      "[4, 6, 7, 9, 1, 3, 8]\n",
      "[True, False, True]\n"
     ]
    }
   ],
   "source": [
    "#List Items-data types\n",
    "#List Items can be of any data type:\n",
    "#Example\n",
    "#sting, int and boolen data type\n",
    "list1=[\"red\",\"yellow\",\"green\"]\n",
    "list2=[4,6,7,9,1,3,8]\n",
    "list3=[True,False,True]\n",
    "print(list1)\n",
    "print(list2)\n",
    "print(list3)\n"
   ]
  },
  {
   "cell_type": "code",
   "execution_count": 7,
   "id": "d27f6ac6-1bb7-4e79-ae18-58cd78ccba83",
   "metadata": {},
   "outputs": [
    {
     "name": "stdout",
     "output_type": "stream",
     "text": [
      "['anu', 24, True, 24, 'female']\n"
     ]
    }
   ],
   "source": [
    "#A list contain different data types\n",
    "#Example\n",
    "#A list with stings, integers and boolen values;\n",
    "list1=[\"anu\",24,True,24,\"female\"]\n",
    "print(list1)\n"
   ]
  },
  {
   "cell_type": "code",
   "execution_count": 8,
   "id": "8817a452-de7f-488f-9383-59d53614d7b2",
   "metadata": {},
   "outputs": [
    {
     "name": "stdout",
     "output_type": "stream",
     "text": [
      "<class 'list'>\n"
     ]
    }
   ],
   "source": [
    "#type() list are defined as objects withthe data type \"list\":<class 'list'>\n",
    "#example\n",
    "mylist=[\"red\",\"yellow\",\"green\"]\n",
    "print(type(mylist))"
   ]
  },
  {
   "cell_type": "code",
   "execution_count": null,
   "id": "cc09ebdc-2954-4e61-a887-40e7056b2780",
   "metadata": {},
   "outputs": [],
   "source": [
    "#The list() constructor\n",
    "#it is also possible to use the list() constructor when creating a new list.\n",
    "#example\n",
    "#Using the list() construct to make a list:\n",
    "mylist=list((\"red\",\"yellow\",\"green\"))#note the double round-brackets\n",
    "print(mylist)"
   ]
  }
 ],
 "metadata": {
  "kernelspec": {
   "display_name": "Python 3 (ipykernel)",
   "language": "python",
   "name": "python3"
  },
  "language_info": {
   "codemirror_mode": {
    "name": "ipython",
    "version": 3
   },
   "file_extension": ".py",
   "mimetype": "text/x-python",
   "name": "python",
   "nbconvert_exporter": "python",
   "pygments_lexer": "ipython3",
   "version": "3.11.7"
  }
 },
 "nbformat": 4,
 "nbformat_minor": 5
}
