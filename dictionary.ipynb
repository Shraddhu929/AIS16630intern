{
 "cells": [
  {
   "cell_type": "code",
   "execution_count": 4,
   "id": "49a77102-e840-4004-950c-79fe611a7951",
   "metadata": {},
   "outputs": [
    {
     "name": "stdout",
     "output_type": "stream",
     "text": [
      "{'brand': 'Toyota', 'model': 'Fortuner', 'year': 1964}\n"
     ]
    }
   ],
   "source": [
    "#dictionary are used to store data values in keyvalue pairs.A ditionary is a collection which is ordered ,changable and do not allow duplications.\n",
    "# dictionaries are written with curly brackets and have keys and values\n",
    "# Example\n",
    "#Create and print a dictionary\n",
    "dict={\n",
    "    \"brand\":\"Toyota\",\n",
    "    \"model\":\"Fortuner\",\n",
    "    \"year\":1964\n",
    "}\n",
    "print(dict)"
   ]
  },
  {
   "cell_type": "code",
   "execution_count": 5,
   "id": "f4a595b1-d542-4a54-88e3-3042c658f2c8",
   "metadata": {},
   "outputs": [
    {
     "name": "stdout",
     "output_type": "stream",
     "text": [
      "Toyota\n"
     ]
    }
   ],
   "source": [
    "#Dictionary Items\n",
    "#Dictionary items are ordered, changable, and do not allow duplicates.\n",
    "#Dictionary items are presented in key:pairs,and can be referred to by using the key name.\n",
    "#Example\n",
    "#the\"brand\"value od the dictionary:\n",
    "#Example\n",
    "#the \"brand\" value of the dictionary:\n",
    "dict={\n",
    "    \"brand\":\"Toyota\",\n",
    "    \"model\":\"Fortuner\",\n",
    "    \"year\":1964\n",
    "}\n",
    "print(dict[\"brand\"])\n"
   ]
  },
  {
   "cell_type": "code",
   "execution_count": 7,
   "id": "cdca4374-bf69-4016-b68d-a8ec2860d9f6",
   "metadata": {},
   "outputs": [
    {
     "name": "stdout",
     "output_type": "stream",
     "text": [
      "{'brand': 'Toyota', 'model': 'Fortuner', 'year': 2024}\n"
     ]
    }
   ],
   "source": [
    "#Ordered whenwe say that dictionaries are ordered,it means that the items have a defined order,and that order will not change.\n",
    "#Unordered meanes that the items do not have a order,you cannot refer to an item by using an index.\n",
    "#Changable Dictionaries are changable ,meaning that we can change,add or remove items after the dictionary has been created.\n",
    "#Duplicates not Aloowed\n",
    "#Dictionaries cannot have two items with the same key:\n",
    "#Example\n",
    "dict={\n",
    "    \"brand\":\"Toyota\",\n",
    "    \"model\":\"Fortuner\",\n",
    "    \"year\":1964,\n",
    "    \"year\":2024\n",
    "}\n",
    "print(dict)"
   ]
  },
  {
   "cell_type": "code",
   "execution_count": 8,
   "id": "d819adfc-5c65-4e96-9c33-6640da20435d",
   "metadata": {},
   "outputs": [
    {
     "name": "stdout",
     "output_type": "stream",
     "text": [
      "3\n"
     ]
    }
   ],
   "source": [
    "#Dictionary length\n",
    "#To determinehow many items a dictionary has,use the Len() function:\n",
    "#Example\n",
    "thisdict={\n",
    "    \"brand\":\"Toyota\",\n",
    "    \"model\":\"Fortuner\",\n",
    "    \"year\":1964\n",
    "}\n",
    "print(len(thisdict))"
   ]
  },
  {
   "cell_type": "code",
   "execution_count": 15,
   "id": "184478ff-87d0-471c-a445-5b746eea336b",
   "metadata": {},
   "outputs": [
    {
     "name": "stdout",
     "output_type": "stream",
     "text": [
      "{'brand': 'Toyota', 'model': 'Fortuner', 'electric': False, 'year': 1964, 'colors': ['White', 'Black']}\n"
     ]
    }
   ],
   "source": [
    "#Dictionary items -data Types\n",
    "#The values in dictionary items can be of any data type\n",
    "#Example\n",
    "#string,int,boolen,and List data types:\n",
    "dict={   \n",
    "    \"brand\":\"Toyota\",\n",
    "    \"model\":\"Fortuner\",\n",
    "    \"electric\":False,\n",
    "    \"year\":1964,\n",
    "    \"colors\":[\"White\",\"Black\"]\n",
    "}\n",
    "print(dict)"
   ]
  },
  {
   "cell_type": "code",
   "execution_count": 16,
   "id": "fbc3d49f-03ca-4e2c-8f1c-51cd1722b3dc",
   "metadata": {},
   "outputs": [
    {
     "name": "stdout",
     "output_type": "stream",
     "text": [
      "<class 'dict'>\n"
     ]
    }
   ],
   "source": [
    "#type()\n",
    "#dictionaries are defined as objects with the data type'dict':<class'dict'>\n",
    "#Example\n",
    "dict={\n",
    "    \"brand\":\"Toyota\",\n",
    "    \"model\":\"Fortuner\",\n",
    "    \"year\":1964\n",
    "    \n",
    "}\n",
    "print(type(dict))"
   ]
  },
  {
   "cell_type": "code",
   "execution_count": 17,
   "id": "86346264-28eb-472e-8c69-da441196cdf5",
   "metadata": {},
   "outputs": [
    {
     "ename": "TypeError",
     "evalue": "'dict' object is not callable",
     "output_type": "error",
     "traceback": [
      "\u001b[1;31m---------------------------------------------------------------------------\u001b[0m",
      "\u001b[1;31mTypeError\u001b[0m                                 Traceback (most recent call last)",
      "Cell \u001b[1;32mIn[17], line 4\u001b[0m\n\u001b[0;32m      1\u001b[0m \u001b[38;5;66;03m#The dict()Constructor\u001b[39;00m\n\u001b[0;32m      2\u001b[0m \u001b[38;5;66;03m#It is also possible to use the dict()constructor to make a dictionary.\u001b[39;00m\n\u001b[0;32m      3\u001b[0m \u001b[38;5;66;03m#Using the dict() method to make a dictionary:\u001b[39;00m\n\u001b[1;32m----> 4\u001b[0m mydict\u001b[38;5;241m=\u001b[39m\u001b[38;5;28mdict\u001b[39m(name\u001b[38;5;241m=\u001b[39m\u001b[38;5;124m\"\u001b[39m\u001b[38;5;124mShraddha\u001b[39m\u001b[38;5;124m\"\u001b[39m,age\u001b[38;5;241m=\u001b[39m\u001b[38;5;241m21\u001b[39m,country\u001b[38;5;241m=\u001b[39m\u001b[38;5;124m\"\u001b[39m\u001b[38;5;124mIndia\u001b[39m\u001b[38;5;124m\"\u001b[39m)\n\u001b[0;32m      5\u001b[0m \u001b[38;5;28mprint\u001b[39m(mydict)\n",
      "\u001b[1;31mTypeError\u001b[0m: 'dict' object is not callable"
     ]
    }
   ],
   "source": [
    "#The dict()Constructor\n",
    "#It is also possible to use the dict()constructor to make a dictionary.\n",
    "#Using the dict() method to make a dictionary:\n",
    "mydict=dict(name=\"Shraddha\",age=21,country=\"India\")\n",
    "print(mydict)"
   ]
  },
  {
   "cell_type": "code",
   "execution_count": null,
   "id": "4a01c8a2-c51d-490c-aaef-91ced8df45c6",
   "metadata": {},
   "outputs": [],
   "source": []
  }
 ],
 "metadata": {
  "kernelspec": {
   "display_name": "Python 3 (ipykernel)",
   "language": "python",
   "name": "python3"
  },
  "language_info": {
   "codemirror_mode": {
    "name": "ipython",
    "version": 3
   },
   "file_extension": ".py",
   "mimetype": "text/x-python",
   "name": "python",
   "nbconvert_exporter": "python",
   "pygments_lexer": "ipython3",
   "version": "3.11.7"
  }
 },
 "nbformat": 4,
 "nbformat_minor": 5
}
