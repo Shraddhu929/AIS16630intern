{
 "cells": [
  {
   "cell_type": "code",
   "execution_count": null,
   "id": "d2199ec6-8fbf-43ab-a534-e5bdfaa03e86",
   "metadata": {},
   "outputs": [],
   "source": [
    "#A for loop is used for iterating over a sequence (that is either a list, a tuple, adictionary, aset , or string).\n",
    "#with the loop we can execute a set of statments,once for each item in a list,tuple ,set etc."
   ]
  },
  {
   "cell_type": "code",
   "execution_count": 1,
   "id": "1760d490-e2c8-4b20-a715-5d5860f00a37",
   "metadata": {},
   "outputs": [
    {
     "name": "stdout",
     "output_type": "stream",
     "text": [
      "red\n",
      "blue\n",
      "yellow\n"
     ]
    }
   ],
   "source": [
    "#Example\n",
    "#print each colour in a colour list:\n",
    "colours=[\"red\",\"blue\",\"yellow\"]\n",
    "for x in colours:\n",
    "    print(x)"
   ]
  },
  {
   "cell_type": "code",
   "execution_count": null,
   "id": "7bf1d4ff-b89b-4822-8cbc-1969e866c6d2",
   "metadata": {},
   "outputs": [],
   "source": [
    "#The for loop does not require an indexing variable to set before hand\n",
    "#Looping through a string\n",
    "#Even strings are iterable objects, they contain a sequence of characters:"
   ]
  },
  {
   "cell_type": "code",
   "execution_count": 2,
   "id": "d3582b40-9a5f-4049-9e71-242f95d06b0c",
   "metadata": {},
   "outputs": [
    {
     "name": "stdout",
     "output_type": "stream",
     "text": [
      "y\n",
      "e\n",
      "l\n",
      "l\n",
      "o\n",
      "w\n"
     ]
    }
   ],
   "source": [
    "#Example\n",
    "#Loop through the letters in the word \"yellow\":\n",
    "for x in \"yellow\":\n",
    "    print(x)"
   ]
  },
  {
   "cell_type": "code",
   "execution_count": 5,
   "id": "81ea427e-7ee2-4c31-bf6e-47737b473ac6",
   "metadata": {},
   "outputs": [
    {
     "name": "stdout",
     "output_type": "stream",
     "text": [
      "red\n"
     ]
    }
   ],
   "source": [
    "#The break statment\n",
    "#with the break statment we can stop the loop before iy has looped through all the items.\n",
    "#example\n",
    "#Exit the loop when x is \"red\".\n",
    "colours=[\"red\",\"blue\",\"yellow\"]\n",
    "for x in colours:\n",
    "    print(x)\n",
    "    if x==\"red\":\n",
    "     break"
   ]
  },
  {
   "cell_type": "code",
   "execution_count": 6,
   "id": "1844499d-8347-4966-9722-4dfd3df318a6",
   "metadata": {},
   "outputs": [
    {
     "name": "stdout",
     "output_type": "stream",
     "text": [
      "red\n"
     ]
    }
   ],
   "source": [
    "#example\n",
    "#Exit the loop when x is \"apple\",but this time the break comes before the print:\n",
    "colours=[\"red\",\"blue\",\"yellow\"]\n",
    "for x in colours:\n",
    "    print(x)\n",
    "    if x==\"red\":\n",
    "     break\n",
    "    print(x)"
   ]
  },
  {
   "cell_type": "code",
   "execution_count": 7,
   "id": "6bcdd458-a78f-49b9-9e2d-ae0f54794ac4",
   "metadata": {},
   "outputs": [
    {
     "name": "stdout",
     "output_type": "stream",
     "text": [
      "blue\n",
      "yellow\n"
     ]
    }
   ],
   "source": [
    "#The continue statment\n",
    "#with the continue statment we can stop the current iteration of the loop, and continue\n",
    "#example\n",
    "#do not print red\n",
    "colours=[\"red\",\"blue\",\"yellow\"]\n",
    "for x in colours:\n",
    "    if x==\"red\":\n",
    "     continue\n",
    "    print(x)"
   ]
  },
  {
   "cell_type": "code",
   "execution_count": 8,
   "id": "a72ab3c9-3118-4d47-a5b7-c73b164ec92b",
   "metadata": {},
   "outputs": [
    {
     "name": "stdout",
     "output_type": "stream",
     "text": [
      "0\n",
      "1\n",
      "2\n",
      "3\n",
      "4\n"
     ]
    }
   ],
   "source": [
    "#the range() function\n",
    "#To loop through a set of code a specified number of times,we can use the range() function\n",
    "#The range() function returns a sequence of numbers ,starting from 0 by default, and increase\n",
    "#example\n",
    "#using the range() function:\n",
    "for x in range (5):\n",
    "    print(x)"
   ]
  },
  {
   "cell_type": "code",
   "execution_count": 9,
   "id": "23f1809e-0f46-4416-93aa-53a8ccb22a7c",
   "metadata": {},
   "outputs": [
    {
     "name": "stdout",
     "output_type": "stream",
     "text": [
      "2\n",
      "3\n",
      "4\n",
      "5\n"
     ]
    }
   ],
   "source": [
    "#the range() function deafult to 0 as starting value\n",
    "#However it is possible to specify the starting value by adding a parameter:range(2,6)\n",
    "#example\n",
    "#using the start parameter:\n",
    "for x in range (2,6):\n",
    "    print(x)"
   ]
  },
  {
   "cell_type": "code",
   "execution_count": 12,
   "id": "de820a3f-0c44-47e1-96f4-b969fc7c3e8f",
   "metadata": {},
   "outputs": [
    {
     "name": "stdout",
     "output_type": "stream",
     "text": [
      "2\n",
      "5\n",
      "8\n",
      "11\n",
      "14\n",
      "17\n"
     ]
    }
   ],
   "source": [
    "#The range () function defaults to increment the sequence by 1.\n",
    "#However it is possible to specify the increment value by adding a third parament range.\n",
    "#example\n",
    "#Increment the sequence with 3(default is 1):\n",
    "for x in range(2,20,3):\n",
    "    print(x)"
   ]
  }
 ],
 "metadata": {
  "kernelspec": {
   "display_name": "Python 3 (ipykernel)",
   "language": "python",
   "name": "python3"
  },
  "language_info": {
   "codemirror_mode": {
    "name": "ipython",
    "version": 3
   },
   "file_extension": ".py",
   "mimetype": "text/x-python",
   "name": "python",
   "nbconvert_exporter": "python",
   "pygments_lexer": "ipython3",
   "version": "3.11.7"
  }
 },
 "nbformat": 4,
 "nbformat_minor": 5
}
