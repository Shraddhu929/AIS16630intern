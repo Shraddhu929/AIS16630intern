{
 "cells": [
  {
   "cell_type": "code",
   "execution_count": 1,
   "id": "1c7c7533-50dc-4ac3-8bd5-95c303705e00",
   "metadata": {},
   "outputs": [
    {
     "name": "stdout",
     "output_type": "stream",
     "text": [
      "Hi\n",
      "Hi\n"
     ]
    }
   ],
   "source": [
    "#strings \n",
    "#Strings in python are surrouneded by either single quatation marks,or double quotation marks\n",
    "#'Hi' is the same as \"Hi\"\n",
    "#A string literal with the print() function\n",
    "print(\"Hi\")\n",
    "print('Hi')"
   ]
  },
  {
   "cell_type": "code",
   "execution_count": 3,
   "id": "26513a27-41d3-4fb4-9195-ac255e4c8ffb",
   "metadata": {},
   "outputs": [
    {
     "name": "stdout",
     "output_type": "stream",
     "text": [
      "it's alright\n",
      "He is called'maddy'\n",
      "He is called \"Maddy\"\n"
     ]
    }
   ],
   "source": [
    "#quotes Inside Quotes\n",
    "#Quotes inside a string,as long as they don't match the quotes surrounding the string\n",
    "#Example\n",
    "print(\"it's alright\")\n",
    "print(\"He is called'maddy'\")\n",
    "print('He is called \"Maddy\"')"
   ]
  },
  {
   "cell_type": "code",
   "execution_count": 4,
   "id": "5285a332-e64f-467f-8b5e-f49003e8e04e",
   "metadata": {},
   "outputs": [
    {
     "name": "stdout",
     "output_type": "stream",
     "text": [
      "Hii\n"
     ]
    }
   ],
   "source": [
    "#Assign string to a variable\n",
    "#Assigning a string to a variable is done with the variable name followed by an equal sign and the string\n",
    "#Example\n",
    "a=\"Hii\"\n",
    "print(a)"
   ]
  },
  {
   "cell_type": "code",
   "execution_count": 5,
   "id": "055d63fc-ad33-48bb-8583-aa37725715bf",
   "metadata": {},
   "outputs": [
    {
     "name": "stdout",
     "output_type": "stream",
     "text": [
      "Lorem ipsum dolor sit amet,\n",
      "consectetur adipiscing elit,\n",
      "sed do eiusmod tempor incididunt\n",
      "ut labore et dolore magna aliqua.\n"
     ]
    }
   ],
   "source": [
    "#Multiline String\n",
    "#Multiline string to a varibale by using three quotes\n",
    "#Example\n",
    "a=\"\"\"Lorem ipsum dolor sit amet,\n",
    "consectetur adipiscing elit,\n",
    "sed do eiusmod tempor incididunt\n",
    "ut labore et dolore magna aliqua.\"\"\"\n",
    "print(a)"
   ]
  },
  {
   "cell_type": "code",
   "execution_count": 10,
   "id": "5970ae38-d5fe-487d-9729-20182938de1e",
   "metadata": {},
   "outputs": [
    {
     "name": "stdout",
     "output_type": "stream",
     "text": [
      "l\n"
     ]
    }
   ],
   "source": [
    "#strings are arrays\n",
    "#Strings in python are arranys of bytes representing unicode character However,Python does not have a character data type, a single character is simply a string with a length of 1\n",
    "#Square brackets can be used to access element of the string\n",
    "#Example\n",
    "#set the characcter at position 1(remember that the first character has the position 0)\n",
    "a=\"Hello,World!\"\n",
    "print(a[2])"
   ]
  },
  {
   "cell_type": "code",
   "execution_count": 11,
   "id": "ec03962c-3eb0-4358-b8fb-5435304910ae",
   "metadata": {},
   "outputs": [
    {
     "name": "stdout",
     "output_type": "stream",
     "text": [
      "M\n",
      "a\n",
      "n\n",
      "g\n",
      "o\n"
     ]
    }
   ],
   "source": [
    "#Looping Through a string\n",
    "#The character in a string ,with a for loop.\n",
    "#example\n",
    "#Loop through the letters in the word \"Mango\":\n",
    "for x in \"Mango\":\n",
    "    print(x)"
   ]
  },
  {
   "cell_type": "code",
   "execution_count": 12,
   "id": "b0ffae89-e3bb-4336-a7da-770c126d7ecf",
   "metadata": {},
   "outputs": [
    {
     "name": "stdout",
     "output_type": "stream",
     "text": [
      "11\n"
     ]
    }
   ],
   "source": [
    "#String Length\n",
    "#the length of a string,use the Len()function\n",
    "#example\n",
    "#the Len() function returns the Length of a string:\n",
    "a=\"Hero,World!\"\n",
    "print(len(a))"
   ]
  },
  {
   "cell_type": "code",
   "execution_count": 13,
   "id": "f5d9a1b0-b1ca-4a5b-ab5f-d05b9560af00",
   "metadata": {},
   "outputs": [
    {
     "name": "stdout",
     "output_type": "stream",
     "text": [
      "True\n"
     ]
    }
   ],
   "source": [
    "#Check string\n",
    "#if a certain phrase or character is present in astring we use the keyword in.\n",
    "#example\n",
    "#Check if\"free\"is present in the following text\n",
    "txt=\"The best things in life are free!\"\n",
    "print(\"free\" in txt)"
   ]
  },
  {
   "cell_type": "code",
   "execution_count": 15,
   "id": "f27685e7-f044-41ed-a66a-bcda16227941",
   "metadata": {},
   "outputs": [
    {
     "name": "stdout",
     "output_type": "stream",
     "text": [
      "True\n"
     ]
    }
   ],
   "source": [
    "#Check if NOT\n",
    "#To check if a ceration phrase or character is NOT present in the string,we can use the keyword not in\n",
    "#Example\n",
    "#check if \"expensive\"is NOT present in the following text:\n",
    "txt=\"The best things in life are free!\"\n",
    "print(\"expensive\"not in txt)"
   ]
  },
  {
   "cell_type": "code",
   "execution_count": 17,
   "id": "61b51e1f-06e5-4b05-b4da-58e2e560ded8",
   "metadata": {},
   "outputs": [
    {
     "name": "stdout",
     "output_type": "stream",
     "text": [
      "no,'expensive'not present in txt\n"
     ]
    }
   ],
   "source": [
    "#use it in an if statment:\n",
    "#Example\n",
    "#print only if\"expensive\"is NOT present:\n",
    "txt=\"The best things in life are free!\"\n",
    "if\"expensive\"not in txt:\n",
    "    print(\"no,'expensive'not present in txt\")"
   ]
  },
  {
   "cell_type": "code",
   "execution_count": null,
   "id": "0f435902-b4b5-4493-ad4e-b984a83980cd",
   "metadata": {},
   "outputs": [],
   "source": []
  }
 ],
 "metadata": {
  "kernelspec": {
   "display_name": "Python 3 (ipykernel)",
   "language": "python",
   "name": "python3"
  },
  "language_info": {
   "codemirror_mode": {
    "name": "ipython",
    "version": 3
   },
   "file_extension": ".py",
   "mimetype": "text/x-python",
   "name": "python",
   "nbconvert_exporter": "python",
   "pygments_lexer": "ipython3",
   "version": "3.11.7"
  }
 },
 "nbformat": 4,
 "nbformat_minor": 5
}
