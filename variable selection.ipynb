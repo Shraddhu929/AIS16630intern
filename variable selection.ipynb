{
 "cells": [
  {
   "cell_type": "code",
   "execution_count": null,
   "id": "59c18754-08db-4c74-aa19-5b5ab4c9f1fb",
   "metadata": {},
   "outputs": [],
   "source": [
    "#A Variable can have a shoert name (x and Y)\n",
    "# or a more descriptive name ( age, carname , total_volume)"
   ]
  },
  {
   "cell_type": "code",
   "execution_count": null,
   "id": "0baf5a2f-187b-48c9-8b1a-cdd399f9f8f1",
   "metadata": {},
   "outputs": [],
   "source": [
    "# Variables nameing rules\n",
    "#A variable name cannot start with a number\n",
    "#A variable name can only contain alpha numeric characters and underscores (A-z,0-9,and_)\n",
    "#variable name are case sensitive (age,Age and AGE are three different variables)\n",
    "# A variables name cannot be any of the python kewwords"
   ]
  },
  {
   "cell_type": "code",
   "execution_count": 2,
   "id": "904fd7c7-b3d7-4e17-82ba-dd859cf74631",
   "metadata": {},
   "outputs": [
    {
     "name": "stdout",
     "output_type": "stream",
     "text": [
      "name od person\n",
      "SHRADDHA\n"
     ]
    }
   ],
   "source": [
    "#Example\n",
    "x=\"name od person\"\n",
    "y=\"SHRADDHA\"\n",
    "print(x)\n",
    "print(y)"
   ]
  },
  {
   "cell_type": "code",
   "execution_count": null,
   "id": "b77f7b16-47ac-4075-99b2-5f4191a63f7f",
   "metadata": {},
   "outputs": [],
   "source": [
    "#Multi Words variable Names\n",
    "#camel case\n",
    "#Each word,except the first ,start with a capital letter:\n",
    "myNmae=\"Shraddha\""
   ]
  },
  {
   "cell_type": "code",
   "execution_count": null,
   "id": "f63cfe1d-0891-4660-ac1a-69805f6bdb25",
   "metadata": {},
   "outputs": [],
   "source": [
    "#pascal case\n",
    "#Each word stat witha capital letter:\n",
    "MyName=\"Shraddha\""
   ]
  },
  {
   "cell_type": "code",
   "execution_count": null,
   "id": "39884dfc-b178-46f9-be6a-6f85233e4467",
   "metadata": {},
   "outputs": [],
   "source": [
    "#snake case\n",
    "#Each word is seprate by an unerscore character:\n",
    "my_name=\"Shraddha\""
   ]
  },
  {
   "cell_type": "code",
   "execution_count": 3,
   "id": "926a1449-1af1-4820-8534-c8d1f26210c3",
   "metadata": {},
   "outputs": [
    {
     "name": "stdout",
     "output_type": "stream",
     "text": [
      "Red\n",
      "yellow\n",
      "green\n"
     ]
    }
   ],
   "source": [
    "#Many values to multiple variable\n",
    "#example\n",
    "x,y,z=\"Red\",\"yellow\",\"green\"\n",
    "print(x)\n",
    "print(y)\n",
    "print(z)"
   ]
  },
  {
   "cell_type": "code",
   "execution_count": null,
   "id": "c26f51cd-2956-48af-b639-2933f2d85607",
   "metadata": {},
   "outputs": [],
   "source": []
  }
 ],
 "metadata": {
  "kernelspec": {
   "display_name": "Python 3 (ipykernel)",
   "language": "python",
   "name": "python3"
  },
  "language_info": {
   "codemirror_mode": {
    "name": "ipython",
    "version": 3
   },
   "file_extension": ".py",
   "mimetype": "text/x-python",
   "name": "python",
   "nbconvert_exporter": "python",
   "pygments_lexer": "ipython3",
   "version": "3.11.7"
  }
 },
 "nbformat": 4,
 "nbformat_minor": 5
}
