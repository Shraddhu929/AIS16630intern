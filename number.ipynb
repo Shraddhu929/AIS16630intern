{
 "cells": [
  {
   "cell_type": "code",
   "execution_count": 2,
   "id": "35590e37-84d3-4a12-a4e3-c626a9e92fb2",
   "metadata": {},
   "outputs": [
    {
     "name": "stdout",
     "output_type": "stream",
     "text": [
      "<class 'int'>\n",
      "<class 'float'>\n",
      "<class 'complex'>\n"
     ]
    }
   ],
   "source": [
    "#Three numeric types\n",
    "#int\n",
    "#float\n",
    "#complex\n",
    "#Example\n",
    "x=1 #inr\n",
    "y=2.8 #float\n",
    "z=1j #complex\n",
    "#To verify the rypeof any object use the type() function\n",
    "print(type(x))\n",
    "print(type(y))\n",
    "print(type(z))"
   ]
  },
  {
   "cell_type": "code",
   "execution_count": 3,
   "id": "5a9b6b82-14f4-4c10-83df-d0d159b0f554",
   "metadata": {},
   "outputs": [
    {
     "name": "stdout",
     "output_type": "stream",
     "text": [
      "<class 'int'>\n",
      "<class 'int'>\n",
      "<class 'int'>\n"
     ]
    }
   ],
   "source": [
    "#int\n",
    "#int,or integer,is a whole number,positive or negative,without decimals,of unlimited length\n",
    "#Example\n",
    "x=8\n",
    "y=2412241224121\n",
    "z=-875433899\n",
    "print(type(x))\n",
    "print(type(y))\n",
    "print(type(z))"
   ]
  },
  {
   "cell_type": "code",
   "execution_count": 4,
   "id": "d2190dff-ecbf-4389-93f3-d4683fdff63b",
   "metadata": {},
   "outputs": [
    {
     "name": "stdout",
     "output_type": "stream",
     "text": [
      "<class 'float'>\n",
      "<class 'float'>\n",
      "<class 'float'>\n"
     ]
    }
   ],
   "source": [
    "#float\n",
    "#float,or \"floating point number\"is a number,positive or negative,containing one or more decimals\n",
    "#Example\n",
    "x=8.9\n",
    "y=5.0\n",
    "z=24.465\n",
    "print(type(x))\n",
    "print(type(y))\n",
    "print(type(z))"
   ]
  },
  {
   "cell_type": "code",
   "execution_count": 5,
   "id": "6124b314-64b6-4bd1-89e6-110f422395d5",
   "metadata": {},
   "outputs": [
    {
     "name": "stdout",
     "output_type": "stream",
     "text": [
      "<class 'float'>\n",
      "<class 'float'>\n",
      "<class 'float'>\n"
     ]
    }
   ],
   "source": [
    "#Float can also be scientific number with an \"e\" to indicate the power of 10\n",
    "#Example\n",
    "x=45e6\n",
    "y=12E9\n",
    "z=-89.5647\n",
    "print(type(x))\n",
    "print(type(y))\n",
    "print(type(z))"
   ]
  },
  {
   "cell_type": "code",
   "execution_count": 6,
   "id": "00b90dbe-c44f-4000-8bf7-5bd582c4a5a9",
   "metadata": {},
   "outputs": [
    {
     "name": "stdout",
     "output_type": "stream",
     "text": [
      "<class 'complex'>\n",
      "<class 'complex'>\n",
      "<class 'complex'>\n"
     ]
    }
   ],
   "source": [
    "#complex\n",
    "#complex number are written a \"j\"as the imaginary part:\n",
    "#example\n",
    "x=3+5j\n",
    "y=5j\n",
    "z=-5j\n",
    "print(type(x))\n",
    "print(type(y))\n",
    "print(type(z))"
   ]
  },
  {
   "cell_type": "code",
   "execution_count": 9,
   "id": "b3cd1ee0-5c4b-4b17-9271-98e62551699b",
   "metadata": {},
   "outputs": [
    {
     "name": "stdout",
     "output_type": "stream",
     "text": [
      "2.0\n",
      "4\n",
      "(2+0j)\n",
      "<class 'float'>\n",
      "<class 'int'>\n",
      "<class 'complex'>\n"
     ]
    }
   ],
   "source": [
    "#Typeconversion\n",
    "#convert from one type to another with the int(),float(),and complex()menthod\n",
    "#example\n",
    "x=2 #int\n",
    "y=4.5 #float\n",
    "z=2j #complex\n",
    "#convert from int to float:\n",
    "a=float(x)\n",
    "#convert from float to int:\n",
    "b=int(y)\n",
    "#convert from int to complex\n",
    "c=complex(x)\n",
    "print(a)\n",
    "print(b)\n",
    "print(c)\n",
    "print(type(a))\n",
    "print(type(b))\n",
    "print(type(c))"
   ]
  },
  {
   "cell_type": "code",
   "execution_count": 10,
   "id": "868391f7-caa3-4cd5-aca0-d175ae27d8a3",
   "metadata": {},
   "outputs": [
    {
     "name": "stdout",
     "output_type": "stream",
     "text": [
      "5\n"
     ]
    }
   ],
   "source": [
    "#Random Number\n",
    "#pythondoes not have a random() function to make a random,but python has a built-in module called random that can be used to make random number\n",
    "#Example\n",
    "#Import the random module,and display a random number betwwen 1 and 5\n",
    "import random\n",
    "print(random.randrange(1,6))\n"
   ]
  }
 ],
 "metadata": {
  "kernelspec": {
   "display_name": "Python 3 (ipykernel)",
   "language": "python",
   "name": "python3"
  },
  "language_info": {
   "codemirror_mode": {
    "name": "ipython",
    "version": 3
   },
   "file_extension": ".py",
   "mimetype": "text/x-python",
   "name": "python",
   "nbconvert_exporter": "python",
   "pygments_lexer": "ipython3",
   "version": "3.11.7"
  }
 },
 "nbformat": 4,
 "nbformat_minor": 5
}
