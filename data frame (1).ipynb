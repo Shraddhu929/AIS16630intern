{
 "cells": [
  {
   "cell_type": "code",
   "execution_count": 1,
   "id": "3b14cd6f-33ef-47a1-aebd-65e0772edcab",
   "metadata": {},
   "outputs": [
    {
     "name": "stdout",
     "output_type": "stream",
     "text": [
      "   calories  duration\n",
      "0       420        50\n",
      "1       380        40\n",
      "2       390        45\n"
     ]
    }
   ],
   "source": [
    "# DataFrames\n",
    "# Data sets in Pandas are usually multi-dimensional tables, called DataFrames.\n",
    "# Series is like a column, a DataFrame is the whole table.\n",
    "#Example\n",
    "#Create a DataFrame from two Series:\n",
    "\n",
    "import pandas as pd\n",
    "\n",
    "data = {\n",
    "  \"calories\": [420, 380, 390],\n",
    "  \"duration\": [50, 40, 45]\n",
    "}\n",
    "\n",
    "myvar = pd.DataFrame(data)\n",
    "\n",
    "print(myvar)"
   ]
  },
  {
   "cell_type": "code",
   "execution_count": 2,
   "id": "d1c64ea6-7741-4043-8e7d-867cfb270607",
   "metadata": {},
   "outputs": [
    {
     "name": "stdout",
     "output_type": "stream",
     "text": [
      "   calories  duration\n",
      "0       420        50\n",
      "1       380        40\n",
      "2       390        45\n"
     ]
    }
   ],
   "source": [
    "# Example\n",
    "# Create a DataFrame:\n",
    "import pandas as pd\n",
    "data = {\"calories\": [420, 380, 390],\"duration\": [50, 40, 45]}\n",
    "df = pd.DataFrame(data)\n",
    "print(df) "
   ]
  },
  {
   "cell_type": "code",
   "execution_count": 3,
   "id": "9e43bd72-611a-4bb7-a5c4-fa627886d8ba",
   "metadata": {},
   "outputs": [
    {
     "name": "stdout",
     "output_type": "stream",
     "text": [
      "calories    420\n",
      "duration     50\n",
      "Name: 0, dtype: int64\n",
      "calories    380\n",
      "duration     40\n",
      "Name: 1, dtype: int64\n",
      "   calories  duration\n",
      "0       420        50\n",
      "1       380        40\n"
     ]
    }
   ],
   "source": [
    "#Locate Row\n",
    "#Pandas use the loc attribute to return one or more specified row(s)\n",
    "#Example\n",
    "\n",
    "import pandas as pd\n",
    "\n",
    "data = {\"calories\": [420, 380, 390],\"duration\": [50, 40, 45]}\n",
    "\n",
    "df = pd.DataFrame(data)\n",
    "\n",
    "print(df.loc[0])\n",
    "print(df.loc[1])\n",
    "print(df.loc[[0, 1]])"
   ]
  },
  {
   "cell_type": "code",
   "execution_count": 4,
   "id": "303f9c42-5af9-47dd-93e1-dd1e6608a1d0",
   "metadata": {},
   "outputs": [
    {
     "name": "stdout",
     "output_type": "stream",
     "text": [
      "      calories  Duration\n",
      "Day1       420        50\n",
      "Day2       350        65\n",
      "Day3       260        45\n"
     ]
    }
   ],
   "source": [
    "# Example\n",
    "import pandas as pd\n",
    "x={\"calories\":[420,350,260],\"Duration\":[50,65,45]}\n",
    "df=pd.DataFrame(x,index=[\"Day1\",\"Day2\",\"Day3\"])\n",
    "print(df)"
   ]
  },
  {
   "cell_type": "code",
   "execution_count": 5,
   "id": "6983d9fe-5a44-444e-8891-6beb6de5784b",
   "metadata": {},
   "outputs": [
    {
     "name": "stdout",
     "output_type": "stream",
     "text": [
      "calories    260\n",
      "Duration     45\n",
      "Name: Day3, dtype: int64\n"
     ]
    }
   ],
   "source": [
    "# Locate Named Indexes\n",
    "import pandas as pd\n",
    "x={\"calories\":[420,350,260],\"Duration\":[50,65,45]}\n",
    "df=pd.DataFrame(x,index=[\"Day1\",\"Day2\",\"Day3\"])\n",
    "print(df.loc[\"Day3\"])"
   ]
  },
  {
   "cell_type": "code",
   "execution_count": null,
   "id": "e12903ba-81da-41b4-9536-ab97213136ca",
   "metadata": {},
   "outputs": [],
   "source": [
    "#Load Files Into a DataFrame\n",
    "#Example\n",
    "#Load a comma separated file (CSV file) into a DataFrame:\n",
    "\n",
    "import pandas as pd\n",
    "\n",
    "df = pd.read_csv('C:/Users/prata/OneDrive/Desktop/AG.csv')\n",
    "\n",
    "print(df) "
   ]
  },
  {
   "cell_type": "code",
   "execution_count": null,
   "id": "5bed60bd-6078-4e89-b216-ec7de76e4a06",
   "metadata": {},
   "outputs": [],
   "source": [
    "# Example\n",
    "#Load the CSV into a DataFrame:\n",
    "import pandas as pd\n",
    "df = pd.read_csv('C:/Users/prata/OneDrive/Desktop/AA.csv')\n",
    "print(df.to_string())"
   ]
  },
  {
   "cell_type": "code",
   "execution_count": null,
   "id": "1965a2af-47ce-4186-8d84-198337168305",
   "metadata": {},
   "outputs": [],
   "source": [
    "# max_rows\n",
    "# The number of rows returned is defined in Pandas option settings.\n",
    "# maximum rows with the pd.options.display.max_rows statement.\n",
    "#Example\n",
    "#Check the number of maximum returned rows:\n",
    "import pandas as pd\n",
    "print(pd.options.display.max_rows)"
   ]
  },
  {
   "cell_type": "code",
   "execution_count": null,
   "id": "0c46455e-2be8-4b85-b579-0dc0da208e17",
   "metadata": {},
   "outputs": [],
   "source": [
    "# Example\n",
    "# Increase the maximum number of rows to display the entire DataFrame:\n",
    "import pandas as pd\n",
    "\n",
    "pd.options.display.max_rows = 100\n",
    "\n",
    "df = pd.read_csv('C:/Users/prata/OneDrive/Desktop/AA.csv')\n",
    "\n",
    "print(df) \n"
   ]
  },
  {
   "cell_type": "code",
   "execution_count": null,
   "id": "1b793065-ab58-4570-b993-7abe4892ef80",
   "metadata": {},
   "outputs": [],
   "source": [
    "# Example\n",
    "#Load the Xlsx into a DataFrame:\n",
    "\n",
    "import pandas as pd\n",
    "\n",
    "df = pd.read_excel('C:/Users/prata/OneDrive/Desktop/AG.xlsx')\n",
    "\n",
    "print(df)"
   ]
  },
  {
   "cell_type": "code",
   "execution_count": null,
   "id": "8a7ff5b8-c399-41ca-9ae5-eb6dfec8886d",
   "metadata": {},
   "outputs": [],
   "source": [
    "# Data frame using matrix\n",
    "import pandas as pd\n",
    "matrix_data=[[1,\"Rahul\",22],[2,\"Akshay\",26],[3,\"Akash\",24]]\n",
    "col_names=[\"Id\",\"Names\",\"Age\"]\n",
    "df_matrix=pd.DataFrame(matrix_data,columns=col_names)\n",
    "print(df_matrix)"
   ]
  },
  {
   "cell_type": "code",
   "execution_count": null,
   "id": "df2fb38e-e4b7-4c72-8dcd-1a6d6c575ba1",
   "metadata": {},
   "outputs": [],
   "source": [
    "# Data frame using dictionary\n",
    "import pandas as pd\n",
    "dict_data={'Id':[1,2,3],'Names':['Rahul','Akshay','Akash'],'Age':[22,26,24]}\n",
    "df_dict=pd.DataFrame(dict_data)\n",
    "print(df_dict)"
   ]
  }
 ],
 "metadata": {
  "kernelspec": {
   "display_name": "Python 3 (ipykernel)",
   "language": "python",
   "name": "python3"
  },
  "language_info": {
   "codemirror_mode": {
    "name": "ipython",
    "version": 3
   },
   "file_extension": ".py",
   "mimetype": "text/x-python",
   "name": "python",
   "nbconvert_exporter": "python",
   "pygments_lexer": "ipython3",
   "version": "3.11.7"
  }
 },
 "nbformat": 4,
 "nbformat_minor": 5
}
