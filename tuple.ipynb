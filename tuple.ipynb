{
 "cells": [
  {
   "cell_type": "raw",
   "id": "3c037fbd-0558-4a30-a1eb-bea8622ca5a9",
   "metadata": {},
   "source": []
  },
  {
   "cell_type": "code",
   "execution_count": 2,
   "id": "66f5f3fc-d554-44d1-9aa4-69c91addc30b",
   "metadata": {},
   "outputs": [
    {
     "name": "stdout",
     "output_type": "stream",
     "text": [
      "('red', 'blue', 'yellow')\n"
     ]
    }
   ],
   "source": [
    "#Tuple\n",
    "#Tuple are used to store multiple items in a single variable.\n",
    "#Tuple is one of 4 built-in-data types in python used to store collection od data, the other 3 are list,set,and dictionary, all with different qualities and usage\n",
    "#A tuple is a collection which is oreded and unchangeable.\n",
    "#Tuples are written with round brackets.\n",
    "tuple=(\"red\",\"blue\",\"yellow\")\n",
    "print(tuple)"
   ]
  },
  {
   "cell_type": "raw",
   "id": "488d9f97-283a-47ef-b67e-d35282ad619c",
   "metadata": {},
   "source": [
    "#Tuple Items\n",
    "#Tuple items are ordered, unchangable,and duplication value.\n",
    "#Tuple items are indexed,the first item has index [0],the second item hasindex [1] etc\n",
    "#ordereds\n",
    "#When we say that tuples are ordered, it means that the items have a defined irder, andthat order will not change\n",
    "#unchangable\n",
    "#Tuple are unchangable,meaning that we cannot change, add or remove items after the tuple has been created."
   ]
  },
  {
   "cell_type": "code",
   "execution_count": 4,
   "id": "90ba500c-1449-4705-8079-59c69c77b92a",
   "metadata": {},
   "outputs": [
    {
     "name": "stdout",
     "output_type": "stream",
     "text": [
      "('Red', 'yellow', 'green', 'Red', 'yellow', 'purple')\n"
     ]
    }
   ],
   "source": [
    "#Allow Duplication\n",
    "#since tuples are indexed,they can have items with the same value\n",
    "#tuple allow duplivate values:\n",
    "tuple=(\"Red\",\"yellow\",\"green\",\"Red\",\"yellow\",\"purple\")\n",
    "print(tuple)\n"
   ]
  },
  {
   "cell_type": "code",
   "execution_count": 5,
   "id": "c9d19d5b-8e11-46a8-9e57-f8dd5d83f2ef",
   "metadata": {},
   "outputs": [
    {
     "name": "stdout",
     "output_type": "stream",
     "text": [
      "3\n"
     ]
    }
   ],
   "source": [
    "#Tuple Lemgth\n",
    "#To determine how many items a tuple a tuple has ,use the Len() function:\n",
    "#Example\n",
    "tuple=(\"Red\",\"green\",\"yellow\")\n",
    "print(len(tuple))"
   ]
  },
  {
   "cell_type": "code",
   "execution_count": 6,
   "id": "506f20e1-7885-4e62-a997-47b7e5d1aed3",
   "metadata": {},
   "outputs": [
    {
     "name": "stdout",
     "output_type": "stream",
     "text": [
      "<class 'str'>\n"
     ]
    }
   ],
   "source": [
    "#create tuple with one item\n",
    "#To create a tuple with only one iteam ,you have to add a comma after the item ,otherwise python will not recognization it as a tuple.\n",
    "#Example\n",
    "tuple=(\"green\")\n",
    "print(type(tuple))"
   ]
  },
  {
   "cell_type": "code",
   "execution_count": 7,
   "id": "d10c3653-fe63-466f-a561-c892d9edf575",
   "metadata": {},
   "outputs": [
    {
     "name": "stdout",
     "output_type": "stream",
     "text": [
      "('red', 'green', 'yellow')\n",
      "(3, 6, 8, 10, 24)\n",
      "(True, False, True)\n"
     ]
    }
   ],
   "source": [
    "#Tuple iteam -Data Type\n",
    "#Tuple iteams can be of any data type\n",
    "#example\n",
    "#string,int and boolen data type:\n",
    "tuple1=(\"red\",\"green\",\"yellow\")\n",
    "tuple2=(3,6,8,10,24)\n",
    "tuple3=(True,False,True)\n",
    "print(tuple1)\n",
    "print(tuple2)\n",
    "print(tuple3)"
   ]
  },
  {
   "cell_type": "code",
   "execution_count": 9,
   "id": "fd2f3e04-90ef-4b95-bb3f-465d8c20cde3",
   "metadata": {},
   "outputs": [
    {
     "name": "stdout",
     "output_type": "stream",
     "text": [
      "('shraddha', 24, 12, 'male', True)\n"
     ]
    }
   ],
   "source": [
    "#A tuple can contain differemt data type\n",
    "#Example\n",
    "#A tuple with string, integers and boolen valuea:\n",
    "tuple=(\"shraddha\",24,12,\"male\",True)\n",
    "print(tuple)"
   ]
  },
  {
   "cell_type": "code",
   "execution_count": 11,
   "id": "bc435631-577a-440a-aa4a-79690c0a4e1c",
   "metadata": {},
   "outputs": [
    {
     "name": "stdout",
     "output_type": "stream",
     "text": [
      "<class 'tuple'>\n"
     ]
    }
   ],
   "source": [
    "#type()\n",
    "#From pythons perspective, tuple are defined as objects with the data type 'tuple':<class'tuple'>\n",
    "#example\n",
    "tuple=(\"R\",\"G\",\"Y\")\n",
    "print(type(tuple))"
   ]
  },
  {
   "cell_type": "code",
   "execution_count": 13,
   "id": "65fa7e8a-1a99-4dbc-b14c-3e4a3d2fb94a",
   "metadata": {},
   "outputs": [
    {
     "ename": "TypeError",
     "evalue": "'tuple' object is not callable",
     "output_type": "error",
     "traceback": [
      "\u001b[1;31m---------------------------------------------------------------------------\u001b[0m",
      "\u001b[1;31mTypeError\u001b[0m                                 Traceback (most recent call last)",
      "Cell \u001b[1;32mIn[13], line 5\u001b[0m\n\u001b[0;32m      1\u001b[0m \u001b[38;5;66;03m#The tuple() Constructoe\u001b[39;00m\n\u001b[0;32m      2\u001b[0m \u001b[38;5;66;03m#It is also possible to use the tuple() constructor to make a tuple.\u001b[39;00m\n\u001b[0;32m      3\u001b[0m \u001b[38;5;66;03m#Example\u001b[39;00m\n\u001b[0;32m      4\u001b[0m \u001b[38;5;66;03m#using the tuple()method to make a tupke\u001b[39;00m\n\u001b[1;32m----> 5\u001b[0m tuple1\u001b[38;5;241m=\u001b[39mtuple1((\u001b[38;5;124m\"\u001b[39m\u001b[38;5;124mR\u001b[39m\u001b[38;5;124m\"\u001b[39m,\u001b[38;5;124m\"\u001b[39m\u001b[38;5;124mG\u001b[39m\u001b[38;5;124m\"\u001b[39m,\u001b[38;5;124m\"\u001b[39m\u001b[38;5;124mY\u001b[39m\u001b[38;5;124m\"\u001b[39m))\u001b[38;5;66;03m#note the double round-bracket\u001b[39;00m\n\u001b[0;32m      6\u001b[0m \u001b[38;5;28mprint\u001b[39m(tuple1)\n",
      "\u001b[1;31mTypeError\u001b[0m: 'tuple' object is not callable"
     ]
    }
   ],
   "source": [
    "#The tuple() Constructoe\n",
    "#It is also possible to use the tuple() constructor to make a tuple.\n",
    "#Example\n",
    "#using the tuple()method to make a tupke\n",
    "tuple1=tuple1((\"R\",\"G\",\"Y\"))#note the double round-bracket\n",
    "print(tuple1)"
   ]
  }
 ],
 "metadata": {
  "kernelspec": {
   "display_name": "Python 3 (ipykernel)",
   "language": "python",
   "name": "python3"
  },
  "language_info": {
   "codemirror_mode": {
    "name": "ipython",
    "version": 3
   },
   "file_extension": ".py",
   "mimetype": "text/x-python",
   "name": "python",
   "nbconvert_exporter": "python",
   "pygments_lexer": "ipython3",
   "version": "3.11.7"
  }
 },
 "nbformat": 4,
 "nbformat_minor": 5
}
