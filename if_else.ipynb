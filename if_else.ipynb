{
 "cells": [
  {
   "cell_type": "code",
   "execution_count": null,
   "id": "bfaf4b11-af0a-429f-ba9b-93dab0e89f73",
   "metadata": {},
   "outputs": [],
   "source": [
    "#The else keyword catches anything which isn't caught by the preceding conditions\n",
    "#python supports the usual logical conditon from mathematics.\n",
    "Equals:a==a\n",
    "not equals a!=b\n",
    "less than:a<b\n",
    "less than or equal to: a<=b\n",
    "greater than or equal to :a>=b\n",
    "greater than: a>b"
   ]
  },
  {
   "cell_type": "code",
   "execution_count": 1,
   "id": "f2e4e213-0da3-4b2c-bbbb-bf2b232ff41f",
   "metadata": {},
   "outputs": [
    {
     "name": "stdout",
     "output_type": "stream",
     "text": [
      "b is less than a\n"
     ]
    }
   ],
   "source": [
    "#Example1\n",
    "a=24\n",
    "b=12\n",
    "if b>a:\n",
    "    print(\"b is greater than a\")\n",
    "else:\n",
    "    print(\"b is less than a\")"
   ]
  },
  {
   "cell_type": "code",
   "execution_count": 2,
   "id": "7833cfc1-8d24-409e-95e5-5e0d1a31443c",
   "metadata": {},
   "outputs": [
    {
     "name": "stdout",
     "output_type": "stream",
     "text": [
      "b is less than a\n"
     ]
    }
   ],
   "source": [
    "#Example2\n",
    "a=24\n",
    "b=12\n",
    "if b+a==50:\n",
    "    print(\"a and b are equal\")\n",
    "else:\n",
    "    print(\"b is less than a\")"
   ]
  },
  {
   "cell_type": "code",
   "execution_count": 3,
   "id": "554e2279-8126-4111-be73-ff308718f2f7",
   "metadata": {},
   "outputs": [
    {
     "name": "stdout",
     "output_type": "stream",
     "text": [
      "sum is not correct\n"
     ]
    }
   ],
   "source": [
    "#Example3\n",
    "a=24\n",
    "b=12\n",
    "if b+a==37:\n",
    "    print(\"sum is correct\")\n",
    "else:\n",
    "    print(\"sum is not correct\")"
   ]
  },
  {
   "cell_type": "code",
   "execution_count": 4,
   "id": "93e19db4-77e1-4879-a43e-1b6b777675e0",
   "metadata": {},
   "outputs": [
    {
     "name": "stdout",
     "output_type": "stream",
     "text": [
      "b and a are not equal\n"
     ]
    }
   ],
   "source": [
    "#Example4\n",
    "a=24\n",
    "b=12\n",
    "if b==a:\n",
    "    print(\"b and a are equal\")\n",
    "else:\n",
    "    print(\"b and a are not equal\")"
   ]
  },
  {
   "cell_type": "code",
   "execution_count": 5,
   "id": "7316a204-1ddd-4d3e-9ef6-74d9b2fabf5a",
   "metadata": {},
   "outputs": [
    {
     "name": "stdout",
     "output_type": "stream",
     "text": [
      "a is greater than equal to b\n"
     ]
    }
   ],
   "source": [
    "#Example5\n",
    "a=24\n",
    "b=12\n",
    "if a>=b:\n",
    "    print(\"a is greater than equal to b\")\n",
    "else:\n",
    "    print(\"a is less than equal to b\")"
   ]
  },
  {
   "cell_type": "code",
   "execution_count": 6,
   "id": "dc0bec83-5478-4e0e-aa2e-272cc67b033c",
   "metadata": {},
   "outputs": [
    {
     "name": "stdout",
     "output_type": "stream",
     "text": [
      "a is less than 24\n"
     ]
    }
   ],
   "source": [
    "#Example6\n",
    "a==24\n",
    "if a>25:\n",
    "    print(\"a is greater than 25\")\n",
    "else:\n",
    "    print(\"a is less than 24\")"
   ]
  },
  {
   "cell_type": "code",
   "execution_count": 7,
   "id": "369ccaa7-40ec-4a81-84ea-1e1fcaad89b0",
   "metadata": {},
   "outputs": [
    {
     "name": "stdout",
     "output_type": "stream",
     "text": [
      "sum is correct\n"
     ]
    }
   ],
   "source": [
    "#Example7\n",
    "a=24\n",
    "b=12\n",
    "if a+b!=36:\n",
    "    print(\"sum is wrong\")\n",
    "else:\n",
    "    print(\"sum is correct\")"
   ]
  },
  {
   "cell_type": "code",
   "execution_count": 8,
   "id": "902cbee8-c28d-4c9c-a95c-edd40e90715d",
   "metadata": {},
   "outputs": [
    {
     "name": "stdout",
     "output_type": "stream",
     "text": [
      "a is equal to 24\n"
     ]
    }
   ],
   "source": [
    "#Example8\n",
    "a=24\n",
    "if a!=24:\n",
    "    print(\"a is not equal to 24\")\n",
    "else:\n",
    "    print(\"a is equal to 24\")"
   ]
  },
  {
   "cell_type": "code",
   "execution_count": 9,
   "id": "76284c78-eaa3-44b3-8cb2-aeaf01d5ffea",
   "metadata": {},
   "outputs": [
    {
     "name": "stdout",
     "output_type": "stream",
     "text": [
      "a is greater than equal to b\n"
     ]
    }
   ],
   "source": [
    "#Example9\n",
    "a=24\n",
    "b=24\n",
    "if a>=b:\n",
    "    print(\"a is greater than equal to b\")\n",
    "elif a>b:\n",
    "    print(\"a is less than equal to b\")"
   ]
  },
  {
   "cell_type": "code",
   "execution_count": 10,
   "id": "1f3e6606-3f38-4fb8-872b-97d655f2babf",
   "metadata": {},
   "outputs": [
    {
     "name": "stdout",
     "output_type": "stream",
     "text": [
      "a is greater than b\n"
     ]
    }
   ],
   "source": [
    "#Example10\n",
    "a=24\n",
    "b=12\n",
    "if a<b:\n",
    "    print(\"a is less than b\")\n",
    "else:\n",
    "    print(\"a is greater than b\")"
   ]
  }
 ],
 "metadata": {
  "kernelspec": {
   "display_name": "Python 3 (ipykernel)",
   "language": "python",
   "name": "python3"
  },
  "language_info": {
   "codemirror_mode": {
    "name": "ipython",
    "version": 3
   },
   "file_extension": ".py",
   "mimetype": "text/x-python",
   "name": "python",
   "nbconvert_exporter": "python",
   "pygments_lexer": "ipython3",
   "version": "3.11.7"
  }
 },
 "nbformat": 4,
 "nbformat_minor": 5
}
