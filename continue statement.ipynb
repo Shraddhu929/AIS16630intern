{
 "cells": [
  {
   "cell_type": "code",
   "execution_count": 1,
   "id": "da13fe1d-1207-41c4-a00f-6fa40084a602",
   "metadata": {},
   "outputs": [
    {
     "name": "stdout",
     "output_type": "stream",
     "text": [
      "2\n",
      "3\n",
      "4\n"
     ]
    }
   ],
   "source": [
    "#Continue Statement \n",
    "#The continue keyword is used to end the current\n",
    "#Example1\n",
    "#Use the continue keyword in a while lopp:\n",
    "i=1\n",
    "while i<=4:\n",
    "    i+=1\n",
    "    if i==5:\n",
    "        continue\n",
    "    print(i)"
   ]
  },
  {
   "cell_type": "code",
   "execution_count": 2,
   "id": "14455158-30d9-43b4-8a28-964cf214fa36",
   "metadata": {},
   "outputs": [
    {
     "name": "stdout",
     "output_type": "stream",
     "text": [
      "0\n",
      "1\n",
      "3\n",
      "4\n",
      "5\n"
     ]
    }
   ],
   "source": [
    "#Example2\n",
    "#Skip the iteration if the variable i is 2\n",
    "for i in range(6):\n",
    "    if i== 2:\n",
    "        continue\n",
    "    print(i)"
   ]
  },
  {
   "cell_type": "code",
   "execution_count": 4,
   "id": "a883f5e5-d2c9-4249-8d47-33bbc154ab98",
   "metadata": {},
   "outputs": [
    {
     "name": "stdout",
     "output_type": "stream",
     "text": [
      "BMW\n",
      "jeep\n"
     ]
    }
   ],
   "source": [
    "#Example3\n",
    "#do not print Audi:\n",
    "cars=[\"BMW\",\"Audi\",\"jeep\"]\n",
    "for x in cars:\n",
    "    if x ==\"Audi\":\n",
    "        continue\n",
    "    print(x)"
   ]
  }
 ],
 "metadata": {
  "kernelspec": {
   "display_name": "Python 3 (ipykernel)",
   "language": "python",
   "name": "python3"
  },
  "language_info": {
   "codemirror_mode": {
    "name": "ipython",
    "version": 3
   },
   "file_extension": ".py",
   "mimetype": "text/x-python",
   "name": "python",
   "nbconvert_exporter": "python",
   "pygments_lexer": "ipython3",
   "version": "3.11.7"
  }
 },
 "nbformat": 4,
 "nbformat_minor": 5
}
