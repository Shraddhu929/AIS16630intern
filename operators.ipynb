{
 "cells": [
  {
   "cell_type": "code",
   "execution_count": null,
   "id": "d7b03aec-cd1b-4a0a-a13d-fd754e3d60d9",
   "metadata": {},
   "outputs": [],
   "source": [
    "#Arithmatic operator(+,-,*,/,**(power),%(modules))\n",
    "#Assignment operator +=,-+,*=\n",
    "#comparisson operator(>,<,==,!=,<=,>=)\n",
    "#Logical operator (And,Or,Not)\n",
    "#Identity Operator (is,is not)\n",
    "#Membership Operators(in,not in)"
   ]
  },
  {
   "cell_type": "code",
   "execution_count": 1,
   "id": "233cd6cb-c089-4b0a-9db1-ffb3e38a4710",
   "metadata": {},
   "outputs": [
    {
     "data": {
      "text/plain": [
       "25.0"
      ]
     },
     "execution_count": 1,
     "metadata": {},
     "output_type": "execute_result"
    }
   ],
   "source": [
    "#Arithmatic operator (+,-,*,/,**(power),%(module))\n",
    "100/4"
   ]
  },
  {
   "cell_type": "code",
   "execution_count": 2,
   "id": "c1b684a3-2a7d-4d9d-b731-ca666c3a88e3",
   "metadata": {},
   "outputs": [
    {
     "data": {
      "text/plain": [
       "104"
      ]
     },
     "execution_count": 2,
     "metadata": {},
     "output_type": "execute_result"
    }
   ],
   "source": [
    "100+4"
   ]
  },
  {
   "cell_type": "code",
   "execution_count": 3,
   "id": "27428eb3-1746-4127-afb3-ad85d78c66a1",
   "metadata": {},
   "outputs": [
    {
     "data": {
      "text/plain": [
       "400"
      ]
     },
     "execution_count": 3,
     "metadata": {},
     "output_type": "execute_result"
    }
   ],
   "source": [
    "100*4"
   ]
  },
  {
   "cell_type": "code",
   "execution_count": 4,
   "id": "58e6e12e-c55a-4352-ace2-4f401283a4c6",
   "metadata": {},
   "outputs": [
    {
     "data": {
      "text/plain": [
       "96"
      ]
     },
     "execution_count": 4,
     "metadata": {},
     "output_type": "execute_result"
    }
   ],
   "source": [
    "100-4"
   ]
  },
  {
   "cell_type": "code",
   "execution_count": 5,
   "id": "97ef6cdd-6943-4018-ae83-b05322781db7",
   "metadata": {},
   "outputs": [
    {
     "data": {
      "text/plain": [
       "10000"
      ]
     },
     "execution_count": 5,
     "metadata": {},
     "output_type": "execute_result"
    }
   ],
   "source": [
    "100**2"
   ]
  },
  {
   "cell_type": "code",
   "execution_count": 6,
   "id": "cc9bb6b9-52bb-454a-a238-ae351d48cd9a",
   "metadata": {},
   "outputs": [
    {
     "data": {
      "text/plain": [
       "0"
      ]
     },
     "execution_count": 6,
     "metadata": {},
     "output_type": "execute_result"
    }
   ],
   "source": [
    "100%4"
   ]
  },
  {
   "cell_type": "code",
   "execution_count": 9,
   "id": "e18e714a-175b-4e05-9a57-2f383635dd5b",
   "metadata": {},
   "outputs": [
    {
     "name": "stdout",
     "output_type": "stream",
     "text": [
      "80\n"
     ]
    }
   ],
   "source": [
    "#Assignment Operator\n",
    "#+=value\n",
    "#-=value\n",
    "#*=value\n",
    "#+*/=value\n",
    "x=30\n",
    "x+=50\n",
    "print(x)"
   ]
  },
  {
   "cell_type": "code",
   "execution_count": 10,
   "id": "003ce172-0af8-4f48-be0f-dfd6bb5b2137",
   "metadata": {},
   "outputs": [
    {
     "name": "stdout",
     "output_type": "stream",
     "text": [
      "-20\n"
     ]
    }
   ],
   "source": [
    "a=30\n",
    "a-=50\n",
    "print(a)"
   ]
  },
  {
   "cell_type": "code",
   "execution_count": 11,
   "id": "9d5982c6-de89-4320-b166-8015ce2bd687",
   "metadata": {},
   "outputs": [
    {
     "name": "stdout",
     "output_type": "stream",
     "text": [
      "30\n"
     ]
    }
   ],
   "source": [
    "a+=50\n",
    "print(a)"
   ]
  },
  {
   "cell_type": "code",
   "execution_count": 12,
   "id": "0ca9228b-4262-4c78-bbfc-8a621b78d89a",
   "metadata": {},
   "outputs": [
    {
     "name": "stdout",
     "output_type": "stream",
     "text": [
      "120\n"
     ]
    }
   ],
   "source": [
    "a*=4\n",
    "print(a)"
   ]
  },
  {
   "cell_type": "code",
   "execution_count": 13,
   "id": "f9770dcf-f090-4179-a319-9fb17aa629d1",
   "metadata": {},
   "outputs": [
    {
     "name": "stdout",
     "output_type": "stream",
     "text": [
      "30.0\n"
     ]
    }
   ],
   "source": [
    "a/=4\n",
    "print(a)"
   ]
  },
  {
   "cell_type": "code",
   "execution_count": 14,
   "id": "d1decd83-ca21-4c9e-aeb0-265c38880eb1",
   "metadata": {},
   "outputs": [
    {
     "data": {
      "text/plain": [
       "True"
      ]
     },
     "execution_count": 14,
     "metadata": {},
     "output_type": "execute_result"
    }
   ],
   "source": [
    "#comparision operator\n",
    "15!=3"
   ]
  },
  {
   "cell_type": "code",
   "execution_count": 15,
   "id": "42243fe7-ad4b-4428-8b27-4d4290a6157f",
   "metadata": {},
   "outputs": [
    {
     "data": {
      "text/plain": [
       "False"
      ]
     },
     "execution_count": 15,
     "metadata": {},
     "output_type": "execute_result"
    }
   ],
   "source": [
    "45<=20"
   ]
  },
  {
   "cell_type": "code",
   "execution_count": 16,
   "id": "dad195aa-d892-4814-84e3-fb102d80626f",
   "metadata": {},
   "outputs": [
    {
     "data": {
      "text/plain": [
       "True"
      ]
     },
     "execution_count": 16,
     "metadata": {},
     "output_type": "execute_result"
    }
   ],
   "source": [
    "100==100"
   ]
  },
  {
   "cell_type": "code",
   "execution_count": 18,
   "id": "dcd5e264-f98a-499d-b4d4-409ec4891c16",
   "metadata": {},
   "outputs": [
    {
     "data": {
      "text/plain": [
       "False"
      ]
     },
     "execution_count": 18,
     "metadata": {},
     "output_type": "execute_result"
    }
   ],
   "source": [
    "#Logical operator\n",
    "#And-Return True if both statment are true\n",
    "x=15;\n",
    "x<16 and x<12"
   ]
  },
  {
   "cell_type": "code",
   "execution_count": 19,
   "id": "481d6fcd-fbcb-4a15-b535-54988fbe6aa1",
   "metadata": {},
   "outputs": [
    {
     "data": {
      "text/plain": [
       "True"
      ]
     },
     "execution_count": 19,
     "metadata": {},
     "output_type": "execute_result"
    }
   ],
   "source": [
    "#Or-Returns True if one of the statment is true\n",
    "x=15\n",
    "x<12 or x<18"
   ]
  },
  {
   "cell_type": "code",
   "execution_count": 20,
   "id": "9abef66d-32b6-48c3-9ec6-9972feed38f7",
   "metadata": {},
   "outputs": [
    {
     "data": {
      "text/plain": [
       "True"
      ]
     },
     "execution_count": 20,
     "metadata": {},
     "output_type": "execute_result"
    }
   ],
   "source": [
    "#not-Reverse the result,return False if the result is true\n",
    "x=15;\n",
    "not(x<12 and x<13)"
   ]
  },
  {
   "cell_type": "code",
   "execution_count": 21,
   "id": "8a360334-64db-4d85-9d57-5ebd08c21e03",
   "metadata": {},
   "outputs": [
    {
     "name": "stderr",
     "output_type": "stream",
     "text": [
      "<>:3: SyntaxWarning: \"is\" with a literal. Did you mean \"==\"?\n",
      "<>:3: SyntaxWarning: \"is\" with a literal. Did you mean \"==\"?\n",
      "C:\\Users\\Malabar Tech\\AppData\\Local\\Temp\\ipykernel_3648\\1002817936.py:3: SyntaxWarning: \"is\" with a literal. Did you mean \"==\"?\n",
      "  x is 50\n"
     ]
    },
    {
     "data": {
      "text/plain": [
       "True"
      ]
     },
     "execution_count": 21,
     "metadata": {},
     "output_type": "execute_result"
    }
   ],
   "source": [
    "#Identity operator\n",
    "x=50\n",
    "x is 50"
   ]
  },
  {
   "cell_type": "code",
   "execution_count": 22,
   "id": "5323352e-43a4-4c3e-bb1c-b4c2c45905c9",
   "metadata": {},
   "outputs": [
    {
     "name": "stderr",
     "output_type": "stream",
     "text": [
      "<>:1: SyntaxWarning: \"is not\" with a literal. Did you mean \"!=\"?\n",
      "<>:1: SyntaxWarning: \"is not\" with a literal. Did you mean \"!=\"?\n",
      "C:\\Users\\Malabar Tech\\AppData\\Local\\Temp\\ipykernel_3648\\218090364.py:1: SyntaxWarning: \"is not\" with a literal. Did you mean \"!=\"?\n",
      "  x is not 50\n"
     ]
    },
    {
     "data": {
      "text/plain": [
       "False"
      ]
     },
     "execution_count": 22,
     "metadata": {},
     "output_type": "execute_result"
    }
   ],
   "source": [
    "x is not 50"
   ]
  },
  {
   "cell_type": "code",
   "execution_count": 24,
   "id": "2a26d112-7a63-48a7-8871-9b94cb49373a",
   "metadata": {},
   "outputs": [
    {
     "data": {
      "text/plain": [
       "False"
      ]
     },
     "execution_count": 24,
     "metadata": {},
     "output_type": "execute_result"
    }
   ],
   "source": [
    "#membership operators\n",
    "x=(24,12,4,27)\n",
    "24  not in x"
   ]
  },
  {
   "cell_type": "code",
   "execution_count": 25,
   "id": "b3fda254-8d56-413f-afe2-f157adc40f97",
   "metadata": {},
   "outputs": [
    {
     "data": {
      "text/plain": [
       "True"
      ]
     },
     "execution_count": 25,
     "metadata": {},
     "output_type": "execute_result"
    }
   ],
   "source": [
    "27 in x"
   ]
  }
 ],
 "metadata": {
  "kernelspec": {
   "display_name": "Python 3 (ipykernel)",
   "language": "python",
   "name": "python3"
  },
  "language_info": {
   "codemirror_mode": {
    "name": "ipython",
    "version": 3
   },
   "file_extension": ".py",
   "mimetype": "text/x-python",
   "name": "python",
   "nbconvert_exporter": "python",
   "pygments_lexer": "ipython3",
   "version": "3.11.7"
  }
 },
 "nbformat": 4,
 "nbformat_minor": 5
}
