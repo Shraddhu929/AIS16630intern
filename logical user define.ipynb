{
 "cells": [
  {
   "cell_type": "code",
   "execution_count": 1,
   "id": "65594720-4323-4d12-a3f2-ee99cb56f7dd",
   "metadata": {},
   "outputs": [
    {
     "name": "stdin",
     "output_type": "stream",
     "text": [
      "Enter a number: 5\n"
     ]
    },
    {
     "name": "stdout",
     "output_type": "stream",
     "text": [
      "The number is odd.\n"
     ]
    }
   ],
   "source": [
    "# odd even\n",
    "def odd_even(num):\n",
    "    if num% 2==0:\n",
    "        return(\"Even\")\n",
    "    else:\n",
    "        return(\"odd\")\n",
    "num=int(input(\"Enter a number:\"))\n",
    "print(f\"The number is {odd_even(num)}.\")\n",
    " "
   ]
  },
  {
   "cell_type": "code",
   "execution_count": 2,
   "id": "bb0357fe-52e5-4503-946c-ae3ec0ef83c7",
   "metadata": {},
   "outputs": [
    {
     "name": "stdin",
     "output_type": "stream",
     "text": [
      "Enter a number: 55\n"
     ]
    },
    {
     "name": "stdout",
     "output_type": "stream",
     "text": [
      "The grades for score is F.\n"
     ]
    }
   ],
   "source": [
    "#Grades\n",
    "def grades(score):\n",
    "    if score >= 90:\n",
    "        return(\"A\")\n",
    "    elif score >=80:\n",
    "        return(\"B\")\n",
    "    elif score >=70:\n",
    "        return(\"C\")\n",
    "    elif score >=60:\n",
    "        return(\"D\")\n",
    "    else:\n",
    "        return(\"F\")\n",
    "score=float(input(\"Enter a number:\"))\n",
    "print(f\"The grades for score is {grades(score)}.\")"
   ]
  },
  {
   "cell_type": "code",
   "execution_count": 3,
   "id": "2bb74671-1b3b-4691-8ed9-aa89d0cc859e",
   "metadata": {},
   "outputs": [
    {
     "name": "stdin",
     "output_type": "stream",
     "text": [
      "Enter a number to calculate its factorial: 24\n"
     ]
    },
    {
     "name": "stdout",
     "output_type": "stream",
     "text": [
      "The factorial of number is:620448401733239439360000\n"
     ]
    }
   ],
   "source": [
    "#Factorial function:\n",
    "def fact(n):\n",
    "    if n==0:\n",
    "        return(1)\n",
    "    else:\n",
    "        return(n*fact(n-1))\n",
    "n=int(input(\"Enter a number to calculate its factorial:\"))\n",
    "print(f\"The factorial of number is:{fact(n)}\")"
   ]
  },
  {
   "cell_type": "code",
   "execution_count": 1,
   "id": "6926f366-079e-43a0-b0ee-2ed72c4ef76b",
   "metadata": {},
   "outputs": [
    {
     "name": "stdin",
     "output_type": "stream",
     "text": [
      "Enter number to check if it is perfect square: 24\n"
     ]
    },
    {
     "name": "stdout",
     "output_type": "stream",
     "text": [
      "n is not perfect square.\n"
     ]
    }
   ],
   "source": [
    "#perfect square\n",
    "def perfect_square(n):\n",
    "    if n<0:\n",
    "        return(\"False\")\n",
    "    sqrt_n=int(n**0.5)\n",
    "    return sqrt_n*sqrt_n==n\n",
    "n=int(input(\"Enter number to check if it is perfect square:\"))\n",
    "if perfect_square(n):\n",
    "    print(f\"n is perfect square.\")\n",
    "else:\n",
    "    print(f\"n is not perfect square.\")"
   ]
  },
  {
   "cell_type": "code",
   "execution_count": 2,
   "id": "bdb13dfa-0930-4ba4-be02-4404f32d7f83",
   "metadata": {},
   "outputs": [
    {
     "name": "stdin",
     "output_type": "stream",
     "text": [
      "Enter year to check if it is leap year: 2023\n"
     ]
    },
    {
     "name": "stdout",
     "output_type": "stream",
     "text": [
      "2023 is not aleap yaer.\n"
     ]
    }
   ],
   "source": [
    "#Leap year\n",
    "def leap_year(year):\n",
    "    if year%4==0:\n",
    "        if year%100==0:\n",
    "            if year%400==0:\n",
    "                return True\n",
    "            else:\n",
    "                return False\n",
    "        else:\n",
    "            return True\n",
    "    else:\n",
    "        return False\n",
    "year=int(input(\"Enter year to check if it is leap year:\"))\n",
    "if leap_year(year):\n",
    "    print(f\"{year} is leap year.\")\n",
    "else:\n",
    "    print(f\"{year} is not aleap yaer.\")\n",
    "       "
   ]
  },
  {
   "cell_type": "code",
   "execution_count": 3,
   "id": "87c06d2a-530e-49ba-817a-63e5942c155e",
   "metadata": {},
   "outputs": [
    {
     "name": "stdout",
     "output_type": "stream",
     "text": [
      "GCD 22 and 5 is 1\n"
     ]
    }
   ],
   "source": [
    "#Greatest common divisor\n",
    "def gcd(a,b):\n",
    "    while b!=0:\n",
    "        a,b=b,a%b\n",
    "    return a\n",
    "a=22\n",
    "b=5\n",
    "result=gcd(a,b)\n",
    "print(\"GCD\",a,\"and\",b,\"is\",result)"
   ]
  },
  {
   "cell_type": "code",
   "execution_count": 4,
   "id": "6ae6e0e1-6df5-44bc-a002-3d2966ad1ed8",
   "metadata": {},
   "outputs": [
    {
     "name": "stdout",
     "output_type": "stream",
     "text": [
      "2\n"
     ]
    }
   ],
   "source": [
    "#Count the number of vowels in a string\n",
    "def count_vowels(s):\n",
    "    vowels='aeiou'\n",
    "    return sum(1 for char in s if char in vowels)\n",
    "s=\"Hell0 World\"\n",
    "print(count_vowels(s))"
   ]
  },
  {
   "cell_type": "code",
   "execution_count": null,
   "id": "cce7680f-8be1-4b0f-a030-09894a194d6f",
   "metadata": {},
   "outputs": [],
   "source": [
    "#least common multiple (LCM) of two numbers\n",
    "def lcm(a,b):\n",
    "    return abs(a*b)//gcd(a,b)\n",
    "a=4\n",
    "b=6\n",
    "print(lcm(a,b))"
   ]
  },
  {
   "cell_type": "code",
   "execution_count": 9,
   "id": "aa99e34b-c20e-44c4-8a79-659d45b7b9e4",
   "metadata": {},
   "outputs": [
    {
     "name": "stdin",
     "output_type": "stream",
     "text": [
      "Enter a number: 24\n"
     ]
    },
    {
     "name": "stdout",
     "output_type": "stream",
     "text": [
      "The number is positive\n"
     ]
    }
   ],
   "source": [
    "#Positive number\n",
    "def positive(num):\n",
    "    return num>0\n",
    "num = float(input(\"Enter a number:\"))\n",
    "if positive(num):\n",
    "    print(\"The number is positive\")\n",
    "else:\n",
    "    print(\"The number is not positive.\")"
   ]
  },
  {
   "cell_type": "code",
   "execution_count": 11,
   "id": "a3ee4b78-a994-4fe0-a785-530c8982485b",
   "metadata": {},
   "outputs": [
    {
     "name": "stdin",
     "output_type": "stream",
     "text": [
      "enter a number: -24\n"
     ]
    },
    {
     "name": "stdout",
     "output_type": "stream",
     "text": [
      "The number is negative.\n"
     ]
    }
   ],
   "source": [
    "#Negative number\n",
    "def negative(num):\n",
    "    return num <0\n",
    "num =float(input(\"enter a number:\"))\n",
    "if negative(num):\n",
    "    print(\"The number is negative.\")\n",
    "else:\n",
    "    print(\"The number is not negative.\")"
   ]
  }
 ],
 "metadata": {
  "kernelspec": {
   "display_name": "Python 3 (ipykernel)",
   "language": "python",
   "name": "python3"
  },
  "language_info": {
   "codemirror_mode": {
    "name": "ipython",
    "version": 3
   },
   "file_extension": ".py",
   "mimetype": "text/x-python",
   "name": "python",
   "nbconvert_exporter": "python",
   "pygments_lexer": "ipython3",
   "version": "3.11.7"
  }
 },
 "nbformat": 4,
 "nbformat_minor": 5
}
