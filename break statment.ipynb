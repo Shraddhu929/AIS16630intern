{
 "cells": [
  {
   "cell_type": "code",
   "execution_count": 1,
   "id": "d8611caf-04cc-4a3a-930e-75c11373de82",
   "metadata": {},
   "outputs": [
    {
     "name": "stdout",
     "output_type": "stream",
     "text": [
      "red\n"
     ]
    }
   ],
   "source": [
    "#The break statment is used to exit or \"break out\" of a loop permaturely.The break keyword is used to break out a for loop,or awhile loop.\n",
    "#Example1\n",
    "#exit the loop when x is \"red\":\n",
    "colours=[\"red\",\"blue\",\"yellow\"]\n",
    "for x in colours:\n",
    "    print(x)\n",
    "    if x==\"red\":\n",
    "        break"
   ]
  },
  {
   "cell_type": "code",
   "execution_count": 2,
   "id": "4c13cc62-b139-4e67-89e7-436c87af78d0",
   "metadata": {},
   "outputs": [
    {
     "name": "stdout",
     "output_type": "stream",
     "text": [
      "1\n",
      "2\n",
      "3\n"
     ]
    }
   ],
   "source": [
    "#example2\n",
    "#Break out of a while loop:\n",
    "i=1\n",
    "while i<9:\n",
    "    print(i)\n",
    "    if i==3:\n",
    "        break\n",
    "    i+=1"
   ]
  },
  {
   "cell_type": "code",
   "execution_count": 3,
   "id": "b5eadfa8-754e-4de0-8ddd-56e1c34624f7",
   "metadata": {},
   "outputs": [
    {
     "name": "stdout",
     "output_type": "stream",
     "text": [
      "1\n",
      "2\n",
      "3\n"
     ]
    }
   ],
   "source": [
    "#example3\n",
    "x=[1,2,3,4,5,6]\n",
    "for i in x:\n",
    "    print(i)\n",
    "    if i == 3:\n",
    "        break"
   ]
  }
 ],
 "metadata": {
  "kernelspec": {
   "display_name": "Python 3 (ipykernel)",
   "language": "python",
   "name": "python3"
  },
  "language_info": {
   "codemirror_mode": {
    "name": "ipython",
    "version": 3
   },
   "file_extension": ".py",
   "mimetype": "text/x-python",
   "name": "python",
   "nbconvert_exporter": "python",
   "pygments_lexer": "ipython3",
   "version": "3.11.7"
  }
 },
 "nbformat": 4,
 "nbformat_minor": 5
}
