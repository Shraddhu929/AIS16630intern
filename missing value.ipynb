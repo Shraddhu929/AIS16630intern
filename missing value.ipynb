{
 "cells": [
  {
   "cell_type": "code",
   "execution_count": 1,
   "id": "f76a14d5-2030-443e-b468-3674719f8e8c",
   "metadata": {},
   "outputs": [
    {
     "name": "stdout",
     "output_type": "stream",
     "text": [
      "       A      B\n",
      "0  False   True\n",
      "1  False  False\n",
      "2   True  False\n",
      "3  False  False\n"
     ]
    }
   ],
   "source": [
    "# Identifying Missing Values: identify missing values in a DataFrame using the isna() method.\n",
    "# Example\n",
    "import pandas as pd\n",
    "data = {'A': [1, 2, None, 4],'B': [None, 5, 6, 7]}\n",
    "df = pd.DataFrame(data)\n",
    "missing_values = df.isna()\n",
    "print(missing_values)"
   ]
  },
  {
   "cell_type": "code",
   "execution_count": 2,
   "id": "f1224474-1c35-4e06-8b5a-9c3a89202b2c",
   "metadata": {},
   "outputs": [
    {
     "name": "stdout",
     "output_type": "stream",
     "text": [
      "     A    B\n",
      "1  2.0  5.0\n",
      "3  4.0  7.0\n",
      "Empty DataFrame\n",
      "Columns: []\n",
      "Index: [0, 1, 2, 3]\n"
     ]
    }
   ],
   "source": [
    "# Handling Missing Values: remove rows or columns containing missing values using dropna() method. \n",
    "# Example\n",
    "import pandas as pd\n",
    "data = {'A': [1, 2, None, 4],'B': [None, 5, 6, 7]}\n",
    "df = pd.DataFrame(data)\n",
    "a=df.dropna() # Remove rows with missing values\n",
    "print(a)\n",
    "b=df.dropna(axis=1) # Remove column with missing values\n",
    "print(b)"
   ]
  },
  {
   "cell_type": "code",
   "execution_count": 3,
   "id": "fcc548af-3431-4c88-8b03-cd59391692c3",
   "metadata": {},
   "outputs": [
    {
     "name": "stdout",
     "output_type": "stream",
     "text": [
      "     A    B\n",
      "0  1.0  0.0\n",
      "1  2.0  5.0\n",
      "2  0.0  6.0\n",
      "3  4.0  7.0\n"
     ]
    }
   ],
   "source": [
    "# Filling Missing Values: using fillna() method\n",
    "# Example\n",
    "import pandas as pd\n",
    "data = {'A': [1, 2, None, 4],'B': [None, 5, 6, 7]}\n",
    "df = pd.DataFrame(data)\n",
    "df_filled = df.fillna(0)  # Fill with 0\n",
    "print(df_filled)"
   ]
  },
  {
   "cell_type": "code",
   "execution_count": 4,
   "id": "e989e620-8b71-45cc-ad99-5e12690ab52c",
   "metadata": {},
   "outputs": [
    {
     "name": "stdout",
     "output_type": "stream",
     "text": [
      "          A    B\n",
      "0  1.000000  6.0\n",
      "1  2.000000  5.0\n",
      "2  2.333333  6.0\n",
      "3  4.000000  7.0\n"
     ]
    }
   ],
   "source": [
    "# Fill missing values with mean\n",
    "df_filled = df.fillna(df.mean())  # Fill with mean of each column\n",
    "print(df_filled)"
   ]
  },
  {
   "cell_type": "code",
   "execution_count": 5,
   "id": "b2fa802e-73af-42a7-8dfd-1a7af50e7058",
   "metadata": {},
   "outputs": [
    {
     "name": "stdout",
     "output_type": "stream",
     "text": [
      "     A    B\n",
      "0  1.0  6.0\n",
      "1  2.0  5.0\n",
      "2  2.0  6.0\n",
      "3  4.0  7.0\n"
     ]
    }
   ],
   "source": [
    "# Fill missing values with median\n",
    "df_filled = df.fillna(df.median())\n",
    "print(df_filled)"
   ]
  },
  {
   "cell_type": "code",
   "execution_count": null,
   "id": "6da24419-8784-499d-8592-04145b66a964",
   "metadata": {},
   "outputs": [],
   "source": []
  }
 ],
 "metadata": {
  "kernelspec": {
   "display_name": "Python 3 (ipykernel)",
   "language": "python",
   "name": "python3"
  },
  "language_info": {
   "codemirror_mode": {
    "name": "ipython",
    "version": 3
   },
   "file_extension": ".py",
   "mimetype": "text/x-python",
   "name": "python",
   "nbconvert_exporter": "python",
   "pygments_lexer": "ipython3",
   "version": "3.11.7"
  }
 },
 "nbformat": 4,
 "nbformat_minor": 5
}
