{
 "cells": [
  {
   "cell_type": "code",
   "execution_count": null,
   "id": "ad3dd0b7-8454-4b5f-9276-1d33df4e210d",
   "metadata": {},
   "outputs": [],
   "source": [
    "#Condition and If statment\n",
    "Python supports the usual logical condition from mathematics: \n",
    "Equals: a==b\n",
    "Not Euqals: a!=b\n",
    "less than:a<b\n",
    "less than or equal to:a<=b\n",
    "greater than:a>b\n",
    "greater than or equal to:a>=b\n",
    "#These conditioncan be used in several ways,most commonly in \"if statment\"and loops"
   ]
  },
  {
   "cell_type": "code",
   "execution_count": 1,
   "id": "08ef718e-39f0-4c68-abdb-a35c901aca2a",
   "metadata": {},
   "outputs": [
    {
     "name": "stdout",
     "output_type": "stream",
     "text": [
      "b is equal to a\n"
     ]
    }
   ],
   "source": [
    "#An \"if statment\" is written by using the if keyword.\n",
    "#Example1\n",
    "#If statment:\n",
    "a=24\n",
    "b=24\n",
    "if b==a:\n",
    "    print(\"b is equal to a\")"
   ]
  },
  {
   "cell_type": "code",
   "execution_count": 2,
   "id": "d0f302a1-2e95-4e18-acfa-1430fa468729",
   "metadata": {},
   "outputs": [
    {
     "name": "stdout",
     "output_type": "stream",
     "text": [
      "a is not equal to b\n"
     ]
    }
   ],
   "source": [
    "#Example2\n",
    "#If statment:\n",
    "a=24\n",
    "b=12\n",
    "if a!=b:\n",
    "    print(\"a is not equal to b\")"
   ]
  },
  {
   "cell_type": "code",
   "execution_count": 3,
   "id": "fb3f4221-806c-4527-bca8-0b56aea558e6",
   "metadata": {},
   "outputs": [
    {
     "name": "stdout",
     "output_type": "stream",
     "text": [
      "a is less than to b\n"
     ]
    }
   ],
   "source": [
    "#Example3\n",
    "#If statment:\n",
    "a=24\n",
    "b=54\n",
    "if a<b:\n",
    "    print(\"a is less than to b\")"
   ]
  },
  {
   "cell_type": "code",
   "execution_count": 6,
   "id": "390486ca-292b-424d-bdf3-ba1e104346a6",
   "metadata": {},
   "outputs": [
    {
     "name": "stdout",
     "output_type": "stream",
     "text": [
      "a is greater than b\n"
     ]
    }
   ],
   "source": [
    "#Example4\n",
    "#If statment:\n",
    "a=34\n",
    "b=24\n",
    "if a>b:\n",
    "    print(\"a is greater than b\")"
   ]
  },
  {
   "cell_type": "code",
   "execution_count": 7,
   "id": "0391b89d-9a09-490c-9b8c-8fb908d8cbcb",
   "metadata": {},
   "outputs": [
    {
     "name": "stdout",
     "output_type": "stream",
     "text": [
      "a is less than equal to b\n"
     ]
    }
   ],
   "source": [
    "#Example5\n",
    "#If statment:\n",
    "a=24\n",
    "b=24\n",
    "if a<=b:\n",
    "    print(\"a is less than equal to b\")"
   ]
  },
  {
   "cell_type": "code",
   "execution_count": 8,
   "id": "e9e24acd-be51-4eef-b1cb-d9c4d9164de9",
   "metadata": {},
   "outputs": [
    {
     "name": "stdout",
     "output_type": "stream",
     "text": [
      "a is greater equal to b\n"
     ]
    }
   ],
   "source": [
    "#Example6\n",
    "#If statment:\n",
    "a=24\n",
    "b=24\n",
    "if a>=b:\n",
    "    print(\"a is greater equal to b\")"
   ]
  },
  {
   "cell_type": "code",
   "execution_count": 9,
   "id": "4369d9ab-35a1-4add-b7f5-c7fefacc2133",
   "metadata": {},
   "outputs": [
    {
     "name": "stdout",
     "output_type": "stream",
     "text": [
      "a is greater than b\n"
     ]
    }
   ],
   "source": [
    "#Example7\n",
    "#If statment:\n",
    "a=24\n",
    "b=12\n",
    "if a>b:\n",
    "    print(\"a is greater than b\")"
   ]
  },
  {
   "cell_type": "code",
   "execution_count": 10,
   "id": "03e4a805-4f53-43e5-84b7-428bad3a07de",
   "metadata": {},
   "outputs": [
    {
     "name": "stdout",
     "output_type": "stream",
     "text": [
      "a is less than b\n"
     ]
    }
   ],
   "source": [
    "#Example8\n",
    "#If statment:\n",
    "a=24\n",
    "b=54\n",
    "if a<b:\n",
    "    print(\"a is less than b\")"
   ]
  },
  {
   "cell_type": "code",
   "execution_count": 12,
   "id": "0a25a526-e6f3-4711-b012-ace76733db85",
   "metadata": {},
   "outputs": [
    {
     "name": "stdout",
     "output_type": "stream",
     "text": [
      "a not equal to b\n"
     ]
    }
   ],
   "source": [
    "#Example9\n",
    "#If statment:\n",
    "a=24\n",
    "b=25\n",
    "if a!=b:\n",
    "    print(\"a not equal to b\")"
   ]
  },
  {
   "cell_type": "code",
   "execution_count": 13,
   "id": "fcd9fa18-28b8-4a92-9989-cf2b39ebc86a",
   "metadata": {},
   "outputs": [
    {
     "name": "stdout",
     "output_type": "stream",
     "text": [
      "b is less than a\n"
     ]
    }
   ],
   "source": [
    "#Example10\n",
    "#If statment:\n",
    "a=24\n",
    "b=12\n",
    "if a>b:\n",
    "    print(\"b is less than a\")"
   ]
  }
 ],
 "metadata": {
  "kernelspec": {
   "display_name": "Python 3 (ipykernel)",
   "language": "python",
   "name": "python3"
  },
  "language_info": {
   "codemirror_mode": {
    "name": "ipython",
    "version": 3
   },
   "file_extension": ".py",
   "mimetype": "text/x-python",
   "name": "python",
   "nbconvert_exporter": "python",
   "pygments_lexer": "ipython3",
   "version": "3.11.7"
  }
 },
 "nbformat": 4,
 "nbformat_minor": 5
}
