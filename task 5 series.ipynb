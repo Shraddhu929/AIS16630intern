{
 "cells": [
  {
   "cell_type": "code",
   "execution_count": 1,
   "id": "aed25d82-c20b-4b24-a6df-51209ad6e24c",
   "metadata": {},
   "outputs": [
    {
     "name": "stdout",
     "output_type": "stream",
     "text": [
      "0    7\n",
      "1    8\n",
      "2    9\n",
      "dtype: int64\n"
     ]
    }
   ],
   "source": [
    "#Series\n",
    "#A Pandas Series is like a column in a table. It is a one-dimensional array holding data of any type.\n",
    "#Example\n",
    "#Create a simple Pandas Series from a list:\n",
    "import pandas as pd\n",
    "a = [7,8,9]\n",
    "myvar = pd.Series(a)\n",
    "print(myvar)"
   ]
  },
  {
   "cell_type": "code",
   "execution_count": 2,
   "id": "096a423c-238e-42ee-bf3c-ff33a0bc9dd1",
   "metadata": {},
   "outputs": [
    {
     "name": "stdout",
     "output_type": "stream",
     "text": [
      "7\n"
     ]
    }
   ],
   "source": [
    "#Labels\n",
    "#If nothing else is specified, the values are labeled with their index number. First value has index 0, second value has index 1 etc.\n",
    "#This label can be used to access a specified value.\n",
    "#Example\n",
    "#Return the first value of the Series:\n",
    "import pandas as pd\n",
    "a = [7,8,9]\n",
    "myvar = pd.Series(a)\n",
    "print(myvar[0])"
   ]
  },
  {
   "cell_type": "code",
   "execution_count": 3,
   "id": "b282933e-4f4b-4bf4-8a94-6b4e35f8c438",
   "metadata": {},
   "outputs": [
    {
     "name": "stdout",
     "output_type": "stream",
     "text": [
      "x    1\n",
      "y    3\n",
      "z    5\n",
      "W    7\n",
      "dtype: int64\n"
     ]
    }
   ],
   "source": [
    "#Create Labels\n",
    "#With the index argument, you can name your own labels.\n",
    "#Example\n",
    "#Create your own labels:\n",
    "import pandas as pd\n",
    "a = [1,3,5,7]\n",
    "myvar = pd.Series(a, index = [\"x\", \"y\", \"z\",\"W\"])\n",
    "print(myvar)"
   ]
  },
  {
   "cell_type": "code",
   "execution_count": 4,
   "id": "7b8c6bfd-0c07-4b6e-9087-46d20d7d84c1",
   "metadata": {},
   "outputs": [
    {
     "name": "stdout",
     "output_type": "stream",
     "text": [
      "3\n"
     ]
    }
   ],
   "source": [
    "#Example\n",
    "#Return the value of \"y\":\n",
    "import pandas as pd\n",
    "a = [1,3,5,7]\n",
    "myvar = pd.Series(a, index = [\"x\", \"y\", \"z\",\"W\"])\n",
    "print(myvar[\"y\"])"
   ]
  },
  {
   "cell_type": "code",
   "execution_count": 5,
   "id": "0e05fd45-23a2-456a-bfd8-bc160c0c0280",
   "metadata": {},
   "outputs": [
    {
     "name": "stdout",
     "output_type": "stream",
     "text": [
      "day1    420\n",
      "day2    380\n",
      "dtype: int64\n"
     ]
    }
   ],
   "source": [
    "# Key/Value Objects as Series\n",
    "# use a key/value object, like a dictionary, when creating a Series.\n",
    "# Example\n",
    "# Create a Series using only data from \"day1\" and \"day2\":\n",
    "import pandas as pd\n",
    "calories = {\"day1\": 420, \"day2\": 380, \"day3\": 390}\n",
    "myvar = pd.Series(calories, index = [\"day1\", \"day2\"])\n",
    "print(myvar)"
   ]
  },
  {
   "cell_type": "code",
   "execution_count": 6,
   "id": "205957c1-0af2-487a-9c41-24a5b7cbcfbe",
   "metadata": {},
   "outputs": [
    {
     "name": "stdout",
     "output_type": "stream",
     "text": [
      "b    2\n",
      "c    3\n",
      "d    4\n",
      "dtype: int64\n",
      "b    2\n",
      "c    3\n",
      "d    4\n",
      "dtype: int64\n"
     ]
    }
   ],
   "source": [
    "# Operation\n",
    "# slicing\n",
    "import pandas as pd\n",
    "s = pd.Series([1, 2, 3, 4, 5], index=['a', 'b', 'c', 'd', 'e'])\n",
    "# Slicing by labels\n",
    "print(s['b':'d'])\n",
    "# Slicing by position\n",
    "print(s[1:4])    "
   ]
  },
  {
   "cell_type": "code",
   "execution_count": 7,
   "id": "330cea10-19b5-4a82-80f8-8f89b6ec21c4",
   "metadata": {},
   "outputs": [
    {
     "name": "stdout",
     "output_type": "stream",
     "text": [
      "0    9\n",
      "1    9\n",
      "2    9\n",
      "3    9\n",
      "dtype: int64\n",
      "0     2\n",
      "1     6\n",
      "2    10\n",
      "3    14\n",
      "dtype: int64\n",
      "0    24\n",
      "1    18\n",
      "2    12\n",
      "3     6\n",
      "dtype: int64\n"
     ]
    }
   ],
   "source": [
    "# Arithmetic operations\n",
    "s1 = pd.Series([1,3,5,7])\n",
    "s2 = pd.Series([8,6,4,2])\n",
    "# Element-wise addition\n",
    "print(s1 + s2)\n",
    "# Scalar multiplication\n",
    "print(s1 * 2) \n",
    "print(s2*3)"
   ]
  },
  {
   "cell_type": "code",
   "execution_count": 8,
   "id": "ba0994fa-f69c-40e1-aea4-0a265db3b503",
   "metadata": {},
   "outputs": [
    {
     "name": "stdout",
     "output_type": "stream",
     "text": [
      "0    False\n",
      "1     True\n",
      "2     True\n",
      "3     True\n",
      "dtype: bool\n"
     ]
    }
   ],
   "source": [
    "# Boolean operations\n",
    "# Element-wise comparison\n",
    "print(s1 > 2)  \n",
    "s1 = pd.Series([1,3,5,7])"
   ]
  },
  {
   "cell_type": "code",
   "execution_count": 9,
   "id": "b11a2bd0-a0e8-4319-ba5b-d0b9b4d85553",
   "metadata": {},
   "outputs": [
    {
     "name": "stdout",
     "output_type": "stream",
     "text": [
      "16\n",
      "4.0\n",
      "1\n",
      "7\n"
     ]
    }
   ],
   "source": [
    "#Aggregation and Reduction:\n",
    "s = pd.Series([1,3,5,7])\n",
    "print(s.sum())   # Sum of all elements\n",
    "print(s.mean())  # Mean of all elements\n",
    "print(s.min())   # Minimum value\n",
    "print(s.max())   # Maximum value"
   ]
  },
  {
   "cell_type": "code",
   "execution_count": 10,
   "id": "0e57990b-7f04-4d0e-944e-7349a1d1ef11",
   "metadata": {},
   "outputs": [
    {
     "name": "stdout",
     "output_type": "stream",
     "text": [
      "0     5\n",
      "1     6\n",
      "3     7\n",
      "2     8\n",
      "4    10\n",
      "5    12\n",
      "dtype: int64\n",
      "0     5\n",
      "1     6\n",
      "2     8\n",
      "3     7\n",
      "4    10\n",
      "5    12\n",
      "dtype: int64\n",
      "0    1.0\n",
      "1    2.0\n",
      "2    4.0\n",
      "3    3.0\n",
      "4    5.0\n",
      "5    6.0\n",
      "dtype: float64\n"
     ]
    }
   ],
   "source": [
    "# Sorting and Ranking:\n",
    "s = pd.Series([5,6,8,7,10,12])\n",
    "# Sorting by values\n",
    "print(s.sort_values())\n",
    "# Sorting by index\n",
    "print(s.sort_index())\n",
    "# Ranking\n",
    "print(s.rank())"
   ]
  },
  {
   "cell_type": "code",
   "execution_count": 11,
   "id": "571cd3da-679d-47d4-a26d-a378390275d9",
   "metadata": {},
   "outputs": [
    {
     "name": "stdout",
     "output_type": "stream",
     "text": [
      "0    False\n",
      "1    False\n",
      "2     True\n",
      "3    False\n",
      "4    False\n",
      "dtype: bool\n",
      "0    1.0\n",
      "1    2.0\n",
      "2    0.0\n",
      "3    4.0\n",
      "4    5.0\n",
      "dtype: float64\n"
     ]
    }
   ],
   "source": [
    "# Handling Missing Data\n",
    "s = pd.Series([1, 2, None, 4, 5])\n",
    "# Check for missing values\n",
    "print(s.isnull())\n",
    "# Fill missing values with a specific value\n",
    "print(s.fillna(0))"
   ]
  },
  {
   "cell_type": "code",
   "execution_count": 12,
   "id": "959af496-9f5e-4a76-ac24-6279b7f6495c",
   "metadata": {},
   "outputs": [
    {
     "name": "stdout",
     "output_type": "stream",
     "text": [
      "0    1.0\n",
      "1    2.0\n",
      "2    3.0\n",
      "3    4.0\n",
      "dtype: float64\n"
     ]
    }
   ],
   "source": [
    "#Element-wise Functions:\n",
    "import pandas as pd\n",
    "# Creating a Series object\n",
    "s = pd.Series([1,4,9,16])\n",
    "print(s**0.5)"
   ]
  }
 ],
 "metadata": {
  "kernelspec": {
   "display_name": "Python 3 (ipykernel)",
   "language": "python",
   "name": "python3"
  },
  "language_info": {
   "codemirror_mode": {
    "name": "ipython",
    "version": 3
   },
   "file_extension": ".py",
   "mimetype": "text/x-python",
   "name": "python",
   "nbconvert_exporter": "python",
   "pygments_lexer": "ipython3",
   "version": "3.11.7"
  }
 },
 "nbformat": 4,
 "nbformat_minor": 5
}
